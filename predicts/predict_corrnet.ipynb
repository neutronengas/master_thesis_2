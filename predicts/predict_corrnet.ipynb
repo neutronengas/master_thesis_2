{
 "cells": [
  {
   "cell_type": "code",
   "execution_count": 1,
   "metadata": {},
   "outputs": [
    {
     "name": "stderr",
     "output_type": "stream",
     "text": [
      "/home/benni/.local/lib/python3.8/site-packages/tensorflow_addons/utils/tfa_eol_msg.py:23: UserWarning: \n",
      "\n",
      "TensorFlow Addons (TFA) has ended development and introduction of new features.\n",
      "TFA has entered a minimal maintenance and release mode until a planned end of life in May 2024.\n",
      "Please modify downstream libraries to take dependencies from other repositories in our TensorFlow community (e.g. Keras, Keras-CV, and Keras-NLP). \n",
      "\n",
      "For more information see: https://github.com/tensorflow/addons/issues/2807 \n",
      "\n",
      "  warnings.warn(\n"
     ]
    }
   ],
   "source": [
    "import tensorflow as tf\n",
    "import numpy as np\n",
    "import os\n",
    "import ast\n",
    "import logging\n",
    "import string\n",
    "import random\n",
    "import yaml\n",
    "from tqdm.notebook import tqdm\n",
    "import pickle\n",
    "\n",
    "from datetime import datetime\n",
    "\n",
    "from corrnet.model.corrnet import CorrNet\n",
    "from corrnet.model.activations import swish\n",
    "from corrnet.training.metrics import Metrics\n",
    "from corrnet.training.trainer import Trainer\n",
    "from corrnet.training.data_container import DataContainer\n",
    "from corrnet.training.data_provider import DataProvider"
   ]
  },
  {
   "cell_type": "code",
   "execution_count": 2,
   "metadata": {},
   "outputs": [],
   "source": [
    "# Set up logger\n",
    "logger = logging.getLogger()\n",
    "logger.handlers = []\n",
    "ch = logging.StreamHandler()\n",
    "formatter = logging.Formatter(\n",
    "        fmt='%(asctime)s (%(levelname)s): %(message)s',\n",
    "        datefmt='%Y-%m-%d %H:%M:%S')\n",
    "ch.setFormatter(formatter)\n",
    "logger.addHandler(ch)\n",
    "logger.setLevel('INFO')\n",
    "\n",
    "os.environ['TF_CPP_MIN_LOG_LEVEL'] = '1'\n",
    "tf.get_logger().setLevel('WARN')\n",
    "tf.autograph.set_verbosity(2)"
   ]
  },
  {
   "cell_type": "code",
   "execution_count": 3,
   "metadata": {},
   "outputs": [],
   "source": [
    "with open('config_corrnet.yaml', 'r') as c:\n",
    "    config = yaml.safe_load(c)"
   ]
  },
  {
   "cell_type": "code",
   "execution_count": 4,
   "metadata": {},
   "outputs": [],
   "source": [
    "model_name = config['model_name']\n",
    "\n",
    "num_basis_fct = config['num_basis_fct']\n",
    "emb_size = config['emb_size']\n",
    "num_interaction_blocks = config['num_interaction_blocks']\n",
    "ao_vals = config['ao_vals']\n",
    "num_grid_points = config['num_grid_points']\n",
    "num_featuers = config['num_features']\n",
    "\n",
    "num_train = config['num_train']\n",
    "num_valid = config['num_valid']\n",
    "data_seed = config['data_seed']\n",
    "dataset = config['dataset']\n",
    "logdir = config['logdir']\n",
    "\n",
    "num_steps = config['num_steps']\n",
    "ema_decay = config['ema_decay']\n",
    "\n",
    "learning_rate = config['learning_rate']\n",
    "warmup_steps = config['warmup_steps']\n",
    "decay_rate = config['decay_rate']\n",
    "decay_steps = config['decay_steps']\n",
    "\n",
    "batch_size = config['batch_size']\n",
    "evaluation_interval = config['evaluation_interval']\n",
    "save_interval = config['save_interval']\n",
    "restart = config['restart']\n",
    "comment = config['comment']\n",
    "target = config['target']"
   ]
  },
  {
   "cell_type": "code",
   "execution_count": 5,
   "metadata": {},
   "outputs": [],
   "source": [
    "data_container = DataContainer(dataset, target, 0.2)\n",
    "\n",
    "# Initialize DataProvider (splits dataset into training, validation and test set based on data_seed)\n",
    "data_provider = DataProvider(data_container, num_train, num_valid, batch_size,\n",
    "                             seed=data_seed, randomized=True)\n",
    "\n",
    "# Initialize datasets\n",
    "dataset = data_provider.get_dataset('test').prefetch(tf.data.experimental.AUTOTUNE)\n",
    "dataset_iter = iter(dataset)"
   ]
  },
  {
   "cell_type": "code",
   "execution_count": 6,
   "metadata": {},
   "outputs": [],
   "source": [
    "if model_name == \"corrnet\":\n",
    "    model = CorrNet(ao_vals=ao_vals, num_featuers=num_featuers, \n",
    "    num_interaction_blocks=num_interaction_blocks, num_grid_points=num_grid_points, activation=swish)\n",
    "else:\n",
    "    model = CorrNet(ao_vals=ao_vals, num_interaction_blocks=num_interaction_blocks, num_grid_points=num_grid_points, activation=swish)"
   ]
  },
  {
   "cell_type": "code",
   "execution_count": 7,
   "metadata": {},
   "outputs": [],
   "source": [
    "trainer = Trainer(model, learning_rate, warmup_steps, decay_steps, decay_rate, ema_decay, max_grad_norm=1000)"
   ]
  },
  {
   "cell_type": "code",
   "execution_count": 8,
   "metadata": {},
   "outputs": [
    {
     "data": {
      "text/plain": [
       "<tensorflow.python.checkpoint.checkpoint.CheckpointLoadStatus at 0x7f3063310dc0>"
      ]
     },
     "execution_count": 8,
     "metadata": {},
     "output_type": "execute_result"
    }
   ],
   "source": [
    "# Load the trained model from your own training run\n",
    "files = os.listdir(\"logging\")\n",
    "rel_files = [f for f in files if model_name in f]\n",
    "rel_files.sort()\n",
    "#directory = \"logging/20230810_165359_densnet_Ael8lbyb_md_h2.npz_densities_final\"  # Fill this in\n",
    "# Get latest run\n",
    "directory = f\"logging/{rel_files[-1]}\"\n",
    "best_ckpt_file = os.path.join(directory, 'best', 'ckpt')\n",
    "model.load_weights(best_ckpt_file)"
   ]
  },
  {
   "cell_type": "code",
   "execution_count": 9,
   "metadata": {},
   "outputs": [],
   "source": [
    "metrics = Metrics('val', target)\n",
    "target_shape = data_provider.shape_target\n",
    "preds_total = np.zeros([data_provider.nsamples['test']] + target_shape[1:], dtype=np.float32)"
   ]
  },
  {
   "cell_type": "code",
   "execution_count": 10,
   "metadata": {},
   "outputs": [
    {
     "data": {
      "application/vnd.jupyter.widget-view+json": {
       "model_id": "82d3bc1f0ac44d4a8e054aea0ad06330",
       "version_major": 2,
       "version_minor": 0
      },
      "text/plain": [
       "  0%|          | 0/6 [00:00<?, ?it/s]"
      ]
     },
     "metadata": {},
     "output_type": "display_data"
    },
    {
     "name": "stdout",
     "output_type": "stream",
     "text": [
      "[[0.0237280838 0.0230795257 0.0226791259 ... 0.0202298053 0.0200720243 0.019778762]\n",
      " [0.0230795257 0.0224486943 0.0220592376 ... 0.0196768641 0.0195233971 0.0192381497]\n",
      " [0.0226791259 0.0220592376 0.0216765385 ... 0.0193354953 0.01918469 0.0189043917]\n",
      " ...\n",
      " [0.0202298053 0.0196768641 0.0193354953 ... 0.0172472838 0.0171127655 0.0168627389]\n",
      " [0.0200720243 0.0195233971 0.01918469 ... 0.0171127655 0.0169792958 0.0167312194]\n",
      " [0.019778762 0.0192381497 0.0189043917 ... 0.0168627389 0.0167312194 0.0164867677]]\n",
      "[[0.012291858 0.0112094199 0.00751666119 ... 0.0263416599 0.0237666722 0.023891015]\n",
      " [0.0112094199 0.0101272212 0.00643464085 ... 0.0252597 0.022684712 0.0228079818]\n",
      " [0.00751666119 0.00643464085 0.00274182227 ... 0.0215676557 0.0189919528 0.0191160571]\n",
      " ...\n",
      " [0.0263416599 0.0252597 0.0215676557 ... 0.0403924175 0.0378174298 0.0379412919]\n",
      " [0.0237666722 0.022684712 0.0189919528 ... 0.0378174298 0.0352419652 0.0353657082]\n",
      " [0.023891015 0.0228079818 0.0191160571 ... 0.0379412919 0.0353657082 0.0354894549]]\n",
      "[[0.00677688187 0.00640818803 0.00612436747 ... 0.00652901782 0.00643877871 0.00612866785]\n",
      " [0.00640818803 0.00605955301 0.00579117332 ... 0.00617380952 0.00608847942 0.00579524]\n",
      " [0.00612436747 0.00579117332 0.00553468056 ... 0.00590036903 0.0058188187 0.00553856697]\n",
      " ...\n",
      " [0.00652901782 0.00617380952 0.00590036903 ... 0.00629021972 0.00620328076 0.00590451248]\n",
      " [0.00643877871 0.00608847942 0.0058188187 ... 0.00620328076 0.00611754367 0.00582290441]\n",
      " [0.00612866785 0.00579524 0.00553856697 ... 0.00590451248 0.00582290441 0.00554245617]]\n",
      "[[0.0125236241 0.0139347706 0.0169711448 ... 0.01345642 -0.000313610653 0.00980716199]\n",
      " [0.0139347706 0.0153463939 0.0183822922 ... 0.0148680434 0.00109801278 0.0112192621]\n",
      " [0.0169711448 0.0183822922 0.0214192625 ... 0.0179042984 0.00413402962 0.0142557565]\n",
      " ...\n",
      " [0.01345642 0.0148680434 0.0179042984 ... 0.0143896919 0.000618827296 0.0107410308]\n",
      " [-0.000313610653 0.00109801278 0.00413402962 ... 0.000618827296 -0.0131508457 -0.00302911969]\n",
      " [0.00980716199 0.0112192621 0.0142557565 ... 0.0107410308 -0.00302911969 0.00709260628]]\n",
      "[[0.0114405146 0.0109937219 0.0106805377 ... 0.0105102407 0.0103870351 0.0100206435]\n",
      " [0.0109937219 0.0105643775 0.0102634244 ... 0.010099778 0.0099813845 0.0096293008]\n",
      " [0.0106805377 0.0102634244 0.00997104403 ... 0.00981206 0.00969704 0.00935498625]\n",
      " ...\n",
      " [0.0105102407 0.010099778 0.00981206 ... 0.00965561066 0.00954242423 0.0092058247]\n",
      " [0.0103870351 0.0099813845 0.00969704 ... 0.00954242423 0.00943056401 0.00909791049]\n",
      " [0.0100206435 0.0096293008 0.00935498625 ... 0.0092058247 0.00909791049 0.0087769907]]\n",
      "[[0.0157637913 0.0128351161 0.0134920646 ... 0.00585503317 0.0123761734 0.0112083619]\n",
      " [0.0128351161 0.00990799163 0.0105639864 ... 0.00292743184 0.00944761839 0.00828028377]\n",
      " [0.0134920646 0.0105639864 0.0112203388 ... 0.00358289015 0.0101039708 0.00893621892]\n",
      " ...\n",
      " [0.00585503317 0.00292743184 0.00358289015 ... -0.00405324763 0.0024678926 0.00129936589]\n",
      " [0.0123761734 0.00944761839 0.0101039708 ... 0.0024678926 0.00898724422 0.00781931356]\n",
      " [0.0112083619 0.00828028377 0.00893621892 ... 0.00129936589 0.00781931356 0.00665174099]]\n",
      "[[0.0101130316 0.00968691334 0.009378911 ... 0.0093988264 0.00928369723 0.00892698]\n",
      " [0.00968691334 0.00927874912 0.00898372475 ... 0.00900280196 0.00889252312 0.0085508367]\n",
      " [0.009378911 0.00898372475 0.00869808067 ... 0.00871655066 0.00860977825 0.00827895664]\n",
      " ...\n",
      " [0.0093988264 0.00900280196 0.00871655066 ... 0.00873506 0.00862806104 0.00829653628]\n",
      " [0.00928369723 0.00889252312 0.00860977825 ... 0.00862806104 0.00852237269 0.00819490943]\n",
      " [0.00892698 0.0085508367 0.00827895664 ... 0.00829653628 0.00819490943 0.00788002741]]\n",
      "[[0.0152566852 0.0133017208 0.015345416 ... 0.0105745886 0.00770230684 0.0149072194]\n",
      " [0.0133017208 0.0113478294 0.0133904517 ... 0.00862010103 0.00574781885 0.0129532088]\n",
      " [0.015345416 0.0133904517 0.0154345641 ... 0.0106627829 0.00779056037 0.0149954129]\n",
      " ...\n",
      " [0.0105745886 0.00862010103 0.0106627829 ... 0.00589189539 0.00301973266 0.0102250027]\n",
      " [0.00770230684 0.00574781885 0.00779056037 ... 0.00301973266 0.000148404564 0.00735331699]\n",
      " [0.0149072194 0.0129532088 0.0149954129 ... 0.0102250027 0.00735331699 0.0145591237]]\n",
      "[[0.0213333797 0.0207260083 0.0203516893 ... 0.0183980558 0.0182423592 0.0179176275]\n",
      " [0.0207260083 0.0201359279 0.019772267 ... 0.0178742558 0.0177229904 0.017407503]\n",
      " [0.0203516893 0.019772267 0.0194151718 ... 0.0175514389 0.017402906 0.0170931183]\n",
      " ...\n",
      " [0.0183980558 0.0178742558 0.0175514389 ... 0.015866613 0.0157323387 0.0154522872]\n",
      " [0.0182423592 0.0177229904 0.017402906 ... 0.0157323387 0.0155992 0.0153215183]\n",
      " [0.0179176275 0.017407503 0.0170931183 ... 0.0154522872 0.0153215183 0.0150487805]]\n",
      "[[0.0142368097 0.0118024684 0.00800604 ... 0.0229537189 0.0261607859 0.0222459715]\n",
      " [0.0118024684 0.0093675321 0.00557181844 ... 0.0205193777 0.0237268023 0.0198117495]\n",
      " [0.00800604 0.00557181844 0.00177556847 ... 0.0167236049 0.0199298374 0.0160157382]\n",
      " ...\n",
      " [0.0229537189 0.0205193777 0.0167236049 ... 0.0316703916 0.0348780528 0.0309631191]\n",
      " [0.0261607859 0.0237268023 0.0199298374 ... 0.0348780528 0.0380836911 0.0341691151]\n",
      " [0.0222459715 0.0198117495 0.0160157382 ... 0.0309631191 0.0341691151 0.0302547757]]\n",
      "[[0.0131754959 0.0127018141 0.0123822447 ... 0.0119403088 0.0118080452 0.0114355842]\n",
      " [0.0127018141 0.0122451624 0.0119370818 ... 0.0115110343 0.011383526 0.0110244555]\n",
      " [0.0123822447 0.0119370818 0.0116367526 ... 0.0112214237 0.0110971238 0.0107470872]\n",
      " ...\n",
      " [0.0119403088 0.0115110343 0.0112214237 ... 0.0108209187 0.0107010547 0.0103635117]\n",
      " [0.0118080452 0.011383526 0.0110971238 ... 0.0107010547 0.0105825188 0.0102487151]\n",
      " [0.0114355842 0.0110244555 0.0107470872 ... 0.0103635117 0.0102487151 0.00992544]]\n",
      "[[0.0162328947 0.0124235246 0.0114746 ... 0.00478159 0.0178095251 0.0100681512]\n",
      " [0.0124235246 0.00861510914 0.00766523043 ... 0.000972935697 0.0140000377 0.006258782]\n",
      " [0.0114746 0.00766523043 0.00671630586 ... 2.2878583e-05 0.0130506949 0.00531033427]\n",
      " ...\n",
      " [0.00478159 0.000972935697 2.2878583e-05 ... -0.006669953 0.0063577448 -0.00138315291]\n",
      " [0.0178095251 0.0140000377 0.0130506949 ... 0.0063577448 0.0193860382 0.0116451411]\n",
      " [0.0100681512 0.006258782 0.00531033427 ... -0.00138315291 0.0116451411 0.00390305091]]\n"
     ]
    }
   ],
   "source": [
    "steps_per_epoch = int(np.ceil(data_provider.nsamples['test'] / batch_size) - 1)\n",
    "\n",
    "for step in tqdm(range(steps_per_epoch)):\n",
    "    preds = trainer.predict_on_batch(dataset_iter, metrics)\n",
    "\n",
    "    batch_start = step * batch_size\n",
    "    batch_end = min((step + 1) * batch_size, data_provider.nsamples['test'])\n",
    "    preds_total[batch_start:batch_end] = preds.numpy()"
   ]
  },
  {
   "cell_type": "code",
   "execution_count": 11,
   "metadata": {},
   "outputs": [],
   "source": [
    "preds_log_file = os.path.join(directory, 'preds.npz')\n",
    "log_dict = {}\n",
    "log_dict[\"MAE\"] = metrics.mean_mae\n",
    "log_dict[\"logMAE\"] = metrics.mean_log_mae\n",
    "log_dict[\"pred_densities\"] = preds_total\n",
    "log_dict[\"data_idx\"] = data_provider.idx['test']\n",
    "pickle.dump(log_dict, open(preds_log_file, \"wb\"))"
   ]
  }
 ],
 "metadata": {
  "kernelspec": {
   "display_name": "quantchem",
   "language": "python",
   "name": "python3"
  },
  "language_info": {
   "codemirror_mode": {
    "name": "ipython",
    "version": 3
   },
   "file_extension": ".py",
   "mimetype": "text/x-python",
   "name": "python",
   "nbconvert_exporter": "python",
   "pygments_lexer": "ipython3",
   "version": "3.8.17"
  },
  "orig_nbformat": 4
 },
 "nbformat": 4,
 "nbformat_minor": 2
}
