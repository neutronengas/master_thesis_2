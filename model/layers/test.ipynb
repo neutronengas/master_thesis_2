{
 "cells": [
  {
   "cell_type": "code",
   "execution_count": 1,
   "metadata": {},
   "outputs": [],
   "source": [
    "import tensorflow as tf\n",
    "import matplotlib.pyplot as plt\n",
    "import numpy as np\n",
    "from scipy.linalg import block_diag\n",
    "from datetime import datetime as dt\n",
    "import sympy as sym\n",
    "from itertools import combinations\n",
    "import math\n",
    "from scipy.special import binom"
   ]
  },
  {
   "cell_type": "code",
   "execution_count": 9,
   "metadata": {},
   "outputs": [],
   "source": [
    "tens = np.random.random((50, 14400, 609))"
   ]
  },
  {
   "cell_type": "code",
   "execution_count": 16,
   "metadata": {},
   "outputs": [
    {
     "data": {
      "text/plain": [
       "<tf.Tensor: shape=(2, 5), dtype=float32, numpy=\n",
       "array([[0.5202941 , 0.17975104, 0.27964318, 0.16578794, 0.06142867],\n",
       "       [0.6914742 , 0.3106817 , 0.9801209 , 0.8392924 , 0.20858705]],\n",
       "      dtype=float32)>"
      ]
     },
     "execution_count": 16,
     "metadata": {},
     "output_type": "execute_result"
    }
   ],
   "source": [
    "tens = tf.random.uniform((10, 10, 5))\n",
    "tf.gather_nd(tens, tf.constant([[1, 2], [3, 4]]))"
   ]
  },
  {
   "cell_type": "code",
   "execution_count": 19,
   "metadata": {},
   "outputs": [
    {
     "data": {
      "text/plain": [
       "<tf.Tensor: shape=(10, 10, 2), dtype=int32, numpy=\n",
       "array([[[3, 0],\n",
       "        [3, 1],\n",
       "        [1, 4],\n",
       "        [4, 1],\n",
       "        [2, 4],\n",
       "        [2, 4],\n",
       "        [3, 1],\n",
       "        [2, 4],\n",
       "        [4, 1],\n",
       "        [1, 4]],\n",
       "\n",
       "       [[4, 1],\n",
       "        [2, 4],\n",
       "        [2, 0],\n",
       "        [0, 2],\n",
       "        [2, 3],\n",
       "        [0, 1],\n",
       "        [4, 1],\n",
       "        [3, 2],\n",
       "        [3, 0],\n",
       "        [4, 1]],\n",
       "\n",
       "       [[1, 4],\n",
       "        [4, 3],\n",
       "        [0, 4],\n",
       "        [2, 4],\n",
       "        [0, 4],\n",
       "        [2, 0],\n",
       "        [0, 3],\n",
       "        [2, 4],\n",
       "        [4, 2],\n",
       "        [3, 1]],\n",
       "\n",
       "       [[4, 3],\n",
       "        [1, 4],\n",
       "        [2, 0],\n",
       "        [3, 0],\n",
       "        [3, 2],\n",
       "        [0, 1],\n",
       "        [0, 3],\n",
       "        [0, 2],\n",
       "        [0, 4],\n",
       "        [3, 0]],\n",
       "\n",
       "       [[2, 3],\n",
       "        [1, 0],\n",
       "        [1, 4],\n",
       "        [3, 0],\n",
       "        [4, 1],\n",
       "        [1, 3],\n",
       "        [1, 0],\n",
       "        [2, 3],\n",
       "        [1, 3],\n",
       "        [1, 3]],\n",
       "\n",
       "       [[2, 4],\n",
       "        [1, 0],\n",
       "        [3, 1],\n",
       "        [0, 4],\n",
       "        [3, 0],\n",
       "        [4, 1],\n",
       "        [2, 3],\n",
       "        [1, 0],\n",
       "        [3, 2],\n",
       "        [0, 1]],\n",
       "\n",
       "       [[2, 3],\n",
       "        [4, 0],\n",
       "        [4, 0],\n",
       "        [2, 0],\n",
       "        [0, 2],\n",
       "        [4, 2],\n",
       "        [1, 0],\n",
       "        [3, 1],\n",
       "        [0, 1],\n",
       "        [3, 0]],\n",
       "\n",
       "       [[2, 4],\n",
       "        [1, 4],\n",
       "        [0, 1],\n",
       "        [3, 2],\n",
       "        [1, 2],\n",
       "        [3, 0],\n",
       "        [3, 1],\n",
       "        [0, 3],\n",
       "        [4, 1],\n",
       "        [0, 3]],\n",
       "\n",
       "       [[1, 2],\n",
       "        [1, 0],\n",
       "        [1, 4],\n",
       "        [0, 3],\n",
       "        [4, 1],\n",
       "        [0, 2],\n",
       "        [1, 3],\n",
       "        [1, 3],\n",
       "        [4, 1],\n",
       "        [0, 2]],\n",
       "\n",
       "       [[0, 3],\n",
       "        [4, 2],\n",
       "        [1, 4],\n",
       "        [0, 3],\n",
       "        [2, 4],\n",
       "        [2, 4],\n",
       "        [4, 0],\n",
       "        [1, 0],\n",
       "        [3, 2],\n",
       "        [4, 3]]], dtype=int32)>"
      ]
     },
     "execution_count": 19,
     "metadata": {},
     "output_type": "execute_result"
    }
   ],
   "source": [
    "tf.argsort(tens)[:, :, -2:]"
   ]
  },
  {
   "cell_type": "code",
   "execution_count": null,
   "metadata": {},
   "outputs": [],
   "source": [
    "def calc_amplitude(x_vec_neighbours_idx, mo_features, gram, norb, cgc):\n",
    "    sp_a_idx = x_vec_neighbours_idx[:, :norb]\n",
    "    sp_b_idx = x_vec_neighbours_idx[:, norb:]\n",
    "    ampl_a = tf.gather(mo_features, sp_a_idx)\n",
    "    ampl_a_sq = tf.einsum(\"niaf,nibf,acb->nicf\", ampl_a, ampl_a, cgc)\n",
    "    ampl_b = tf.gather(mo_features, sp_b_idx)\n",
    "    ampl_b_sq = tf.einsum(\"niaf,nibf,acb->nicf\", ampl_b, ampl_b, cgc)\n",
    "    ampl_a = tf.linalg.det(\"niaf,njaf,nij->nij\", ampl_a, ampl_a_sq, gram)\n",
    "    ampl_b = tf.linalg.det(\"niaf,njaf,nij->nij\", ampl_b, ampl_b_sq, gram)\n",
    "    ampl = ampl_a * ampl_b\n",
    "    return ampl\n",
    "\n",
    "\n",
    "def e_local(N_u, x_vec_as_dec, x_vec_as_idx, dets_as_idx, dets_as_dec, neighbour_dets_as_dec, neighbour_dets_matrix_el, mo_features, gram):\n",
    "    # x_vec_as_dec (= x_vec): (N_u,); x_vec_as_idx: (N_u, nelec); dets_as_idx: (no_dets, nelec)\n",
    "    # neighbour_dets_as_dec: (no_dets, no_neighbour_dets); neighbour_dets_matrix_el: (no_dets, no_neighbour_dets)\n",
    "    norb = len(dets_as_idx[0])\n",
    "    x_vec_neighbours_dec = tf.gather(neighbour_dets_as_dec, x_vec_as_dec)\n",
    "    x_vec_neighbours_idx = tf.gather(dets_as_idx, x_vec_neighbours_dec)\n",
    "    ampls = calc_amplitude(x_vec_neighbours_idx, mo_features, gram, norb)\n",
    "    # ampls of shape (V_n, no_neighbour_dets)\n",
    "    matr_els = tf.gather(neighbour_dets_matrix_el, x_vec_as_idx)\n",
    "    denom = calc_amplitude(x_vec_as_idx, mo_features, gram, norb)\n",
    "    e_loc = tf.reduce_sum(ampls * matr_els, axis=-1) / denom\n",
    "    top_N_u_ampls_idx = tf.argsort(tf.reshape(ampls, [tf.shape(ampls)[0], tf.shape(ampls)[1] * tf.shape(ampls)[2]]))[:, -N_u:]\n",
    "    top_N_u_dets_as_idx = tf.gather(dets_as_idx, top_N_u_ampls_idx)\n",
    "    top_N_u_dets_as_dec = tf.gather(dets_as_dec, top_N_u_ampls_idx)\n",
    "    return e_loc, denom, top_N_u_dets_as_idx, top_N_u_dets_as_dec"
   ]
  },
  {
   "cell_type": "code",
   "execution_count": 20,
   "metadata": {},
   "outputs": [
    {
     "data": {
      "text/plain": [
       "<tf.Tensor: shape=(10,), dtype=int32, numpy=array([0, 1, 2, 3, 4, 5, 6, 7, 8, 9], dtype=int32)>"
      ]
     },
     "execution_count": 20,
     "metadata": {},
     "output_type": "execute_result"
    }
   ],
   "source": [
    "tf.argsort(tf.range(10))"
   ]
  },
  {
   "cell_type": "code",
   "execution_count": null,
   "metadata": {},
   "outputs": [],
   "source": []
  }
 ],
 "metadata": {
  "kernelspec": {
   "display_name": "tf_old",
   "language": "python",
   "name": "python3"
  },
  "language_info": {
   "codemirror_mode": {
    "name": "ipython",
    "version": 3
   },
   "file_extension": ".py",
   "mimetype": "text/x-python",
   "name": "python",
   "nbconvert_exporter": "python",
   "pygments_lexer": "ipython3",
   "version": "3.10.8"
  }
 },
 "nbformat": 4,
 "nbformat_minor": 2
}
