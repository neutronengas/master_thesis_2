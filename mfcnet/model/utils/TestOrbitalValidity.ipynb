{
 "cells": [
  {
   "cell_type": "code",
   "execution_count": 1,
   "metadata": {},
   "outputs": [],
   "source": [
    "from create_orbital_values import create_orbital_values\n",
    "import numpy as np\n",
    "import scipy.sparse as sp\n",
    "import tensorflow as tf"
   ]
  },
  {
   "cell_type": "code",
   "execution_count": 2,
   "metadata": {},
   "outputs": [],
   "source": [
    "tens = tf.random.uniform((10, 5))"
   ]
  },
  {
   "cell_type": "code",
   "execution_count": 3,
   "metadata": {},
   "outputs": [
    {
     "data": {
      "text/plain": [
       "<tf.Tensor: shape=(10, 5), dtype=float32, numpy=\n",
       "array([[0.6741098 , 0.430753  , 0.719239  , 0.3864286 , 0.16429222],\n",
       "       [0.80423677, 0.25362873, 0.44176638, 0.93712425, 0.47925413],\n",
       "       [0.36671948, 0.8800461 , 0.22814023, 0.4851961 , 0.19900465],\n",
       "       [0.20123184, 0.28773284, 0.42010796, 0.4692285 , 0.63268113],\n",
       "       [0.65253186, 0.8852688 , 0.8640523 , 0.20779157, 0.5895871 ],\n",
       "       [0.5469172 , 0.64877164, 0.82257664, 0.36453176, 0.807963  ],\n",
       "       [0.413648  , 0.77448285, 0.8828198 , 0.02873623, 0.1795013 ],\n",
       "       [0.30692804, 0.87116766, 0.12571001, 0.7055609 , 0.66063726],\n",
       "       [0.57735944, 0.6889492 , 0.10833561, 0.3466997 , 0.8712561 ],\n",
       "       [0.08053446, 0.27365756, 0.9172715 , 0.85007215, 0.71094906]],\n",
       "      dtype=float32)>"
      ]
     },
     "execution_count": 3,
     "metadata": {},
     "output_type": "execute_result"
    }
   ],
   "source": [
    "tens"
   ]
  },
  {
   "cell_type": "code",
   "execution_count": null,
   "metadata": {},
   "outputs": [],
   "source": [
    "tf.argsort(tens)"
   ]
  }
 ],
 "metadata": {
  "kernelspec": {
   "display_name": "tf_old",
   "language": "python",
   "name": "python3"
  },
  "language_info": {
   "codemirror_mode": {
    "name": "ipython",
    "version": 3
   },
   "file_extension": ".py",
   "mimetype": "text/x-python",
   "name": "python",
   "nbconvert_exporter": "python",
   "pygments_lexer": "ipython3",
   "version": "3.10.8"
  },
  "orig_nbformat": 4
 },
 "nbformat": 4,
 "nbformat_minor": 2
}
