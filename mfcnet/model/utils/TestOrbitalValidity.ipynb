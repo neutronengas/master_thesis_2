{
 "cells": [
  {
   "cell_type": "code",
   "execution_count": 2,
   "metadata": {},
   "outputs": [],
   "source": [
    "from create_orbital_values import create_orbital_values\n",
    "import numpy as np\n",
    "import scipy.sparse as sp\n",
    "import tensorflow as tf"
   ]
  },
  {
   "cell_type": "code",
   "execution_count": 63,
   "metadata": {},
   "outputs": [],
   "source": [
    "data = np.load(\"../../../data/md_h2.npz\", allow_pickle=True)\n",
    "test_data = np.load(\"../../../data/md_h2_hfdensities.npz\", allow_pickle=True)\n",
    "data[\"R\"] = data[\"R\"].reshape((data[\"R\"].shape[0] * data[\"R\"].shape[1], 3))\n",
    "N_cumsum = np.concatenate([[0], data[\"N\"]]).cumsum()\n",
    "N_rdm_cumsum = np.concatenate([[0], data[\"N_rdm\"]]).cumsum()\n",
    "data[\"rdm_hf\"] = test_data[\"rdm_hf\"]"
   ]
  },
  {
   "cell_type": "code",
   "execution_count": 65,
   "metadata": {},
   "outputs": [],
   "source": [
    "densities = test_data[\"densities\"]\n",
    "hf_densities = test_data[\"hf_densities\"]"
   ]
  },
  {
   "cell_type": "code",
   "execution_count": 76,
   "metadata": {},
   "outputs": [
    {
     "data": {
      "text/plain": [
       "0.08881851504881051"
      ]
     },
     "execution_count": 76,
     "metadata": {},
     "output_type": "execute_result"
    }
   ],
   "source": [
    "np.absolute(densities[:, :100] - hf_densities[:, :100]).sum() / 1200"
   ]
  },
  {
   "cell_type": "code",
   "execution_count": 38,
   "metadata": {},
   "outputs": [
    {
     "data": {
      "text/plain": [
       "-9015700.597832868"
      ]
     },
     "execution_count": 38,
     "metadata": {},
     "output_type": "execute_result"
    }
   ],
   "source": [
    "tens = np.random.random((3, 16, 4))\n",
    "tmp = np.einsum(\"abc,adc->bd\", tens, tens)\n",
    "tmp = tmp * (np.ones((16, 16)) - np.eye(16))\n",
    "np.linalg.det(tmp)"
   ]
  },
  {
   "cell_type": "code",
   "execution_count": 16,
   "metadata": {},
   "outputs": [],
   "source": [
    "tens = np.random.random((100, 100))\n",
    "for _ in range(100000):\n",
    "    tens = tens * 0"
   ]
  },
  {
   "cell_type": "code",
   "execution_count": 41,
   "metadata": {},
   "outputs": [
    {
     "data": {
      "text/plain": [
       "<tf.Tensor: shape=(7,), dtype=int32, numpy=array([4, 4, 3, 3, 3, 3, 2], dtype=int32)>"
      ]
     },
     "execution_count": 41,
     "metadata": {},
     "output_type": "execute_result"
    }
   ],
   "source": [
    "vec = tf.constant([1, 1, 2, 2, 2, 3, 3, 3, 4, 4])\n",
    "vec = tf.constant([4, 4, 3, 3, 3, 3, 2, 2, 1, 1])\n",
    "am = tf.argmax(tf.cumsum(tf.cast(tf.concat([tf.constant([5]), vec[:-1]], axis=0) != vec, dtype=tf.int32)) == 3, output_type=tf.int32)\n",
    "vec[tf.range(vec.shape[0]) <= am] "
   ]
  },
  {
   "cell_type": "code",
   "execution_count": 59,
   "metadata": {},
   "outputs": [
    {
     "data": {
      "text/plain": [
       "<tf.Tensor: shape=(10,), dtype=int32, numpy=array([4, 0, 3, 0, 0, 0, 2, 0, 1, 0], dtype=int32)>"
      ]
     },
     "execution_count": 59,
     "metadata": {},
     "output_type": "execute_result"
    }
   ],
   "source": [
    "mask = tf.cast(tf.concat([tf.constant([0]), vec[:-1]], axis=0) != vec, dtype=tf.int32)\n",
    "vec *"
   ]
  },
  {
   "cell_type": "code",
   "execution_count": 60,
   "metadata": {},
   "outputs": [
    {
     "data": {
      "text/plain": [
       "<tf.Tensor: shape=(10,), dtype=int32, numpy=array([5, 4, 4, 3, 3, 3, 3, 2, 2, 1], dtype=int32)>"
      ]
     },
     "execution_count": 60,
     "metadata": {},
     "output_type": "execute_result"
    }
   ],
   "source": [
    "tf.concat([tf.constant([5]), vec[:-1]], axis=0)"
   ]
  },
  {
   "cell_type": "code",
   "execution_count": 45,
   "metadata": {},
   "outputs": [
    {
     "data": {
      "text/plain": [
       "<tf.Tensor: shape=(5,), dtype=int32, numpy=array([0, 1, 2, 3, 4], dtype=int32)>"
      ]
     },
     "execution_count": 45,
     "metadata": {},
     "output_type": "execute_result"
    }
   ],
   "source": [
    "tf.argsort(tf.range(5))"
   ]
  },
  {
   "cell_type": "code",
   "execution_count": null,
   "metadata": {},
   "outputs": [],
   "source": []
  }
 ],
 "metadata": {
  "kernelspec": {
   "display_name": "tf_old",
   "language": "python",
   "name": "python3"
  },
  "language_info": {
   "codemirror_mode": {
    "name": "ipython",
    "version": 3
   },
   "file_extension": ".py",
   "mimetype": "text/x-python",
   "name": "python",
   "nbconvert_exporter": "python",
   "pygments_lexer": "ipython3",
   "version": "3.10.8"
  },
  "orig_nbformat": 4
 },
 "nbformat": 4,
 "nbformat_minor": 2
}
