{
 "cells": [
  {
   "cell_type": "code",
   "execution_count": 9,
   "metadata": {},
   "outputs": [],
   "source": [
    "import numpy as np\n",
    "from sympy.physics.quantum.cg import CG\n",
    "import tensorflow as tf\n",
    "import os\n",
    "import scipy.sparse as sp"
   ]
  },
  {
   "cell_type": "code",
   "execution_count": 71,
   "metadata": {},
   "outputs": [],
   "source": [
    "z = np.array([[1, 2], [3, 4]])\n",
    "tens = np.stack([z, np.zeros((2, 2)), np.zeros((2, 2))])\n",
    "a, b, c = np.nonzero(tens)"
   ]
  },
  {
   "cell_type": "code",
   "execution_count": 72,
   "metadata": {},
   "outputs": [
    {
     "data": {
      "text/plain": [
       "array([1., 2., 3., 4.])"
      ]
     },
     "execution_count": 72,
     "metadata": {},
     "output_type": "execute_result"
    }
   ],
   "source": [
    "abc = np.stack([a, b, c])\n",
    "tens[np.nonzero(tens)]"
   ]
  },
  {
   "cell_type": "code",
   "execution_count": 73,
   "metadata": {},
   "outputs": [],
   "source": [
    "i, j, k = np.nonzero(tens)\n",
    "ij = np.stack([i, j])\n",
    "ik = np.stack([i, k])"
   ]
  },
  {
   "cell_type": "code",
   "execution_count": 74,
   "metadata": {},
   "outputs": [
    {
     "name": "stdout",
     "output_type": "stream",
     "text": [
      "[[0 0 0 0]\n",
      " [0 0 1 1]]\n",
      "[[0 0 0 0]\n",
      " [0 1 0 1]]\n"
     ]
    }
   ],
   "source": [
    "print(ij[:, :10])\n",
    "print(ik[:, :10])"
   ]
  },
  {
   "cell_type": "code",
   "execution_count": 62,
   "metadata": {},
   "outputs": [
    {
     "data": {
      "text/plain": [
       "array([ 1,  2,  0,  2,  3,  4,  0,  1,  3,  4,  1,  2,  3,  4,  1,  2,  3,\n",
       "        4,  5,  6,  7,  8,  9,  5,  7,  8,  5,  6,  9,  5,  6,  9,  5,  7,\n",
       "        8, 10, 11, 12, 13, 10, 13, 10, 12, 14, 10, 11, 13, 14, 12, 13, 14,\n",
       "       16, 17, 18, 19, 15, 17, 18, 19, 15, 16, 18, 19, 15, 16, 17, 19, 15,\n",
       "       16, 17, 18, 21, 22, 23, 24, 20, 21, 22, 24, 20, 21, 20, 24, 20, 21,\n",
       "       23, 25, 26, 28, 29, 25, 29, 27, 29, 25, 28, 29, 25, 26, 27, 28, 29,\n",
       "       31, 32, 34, 30, 31, 32, 33, 34, 30, 31, 32, 33, 34, 31, 32, 33, 34,\n",
       "       30, 31, 32, 33, 35, 37, 39, 37, 39, 35, 36, 37, 39, 39, 35, 36, 37,\n",
       "       38, 39, 40, 41, 40, 42, 43, 41, 42, 43, 41, 42, 44, 43, 44, 47, 48,\n",
       "       49, 47, 48, 49, 45, 46, 48, 49, 45, 46, 47, 48, 49, 45, 46, 47, 48])"
      ]
     },
     "execution_count": 62,
     "metadata": {},
     "output_type": "execute_result"
    }
   ],
   "source": [
    "np.ravel_multi_index(ik[:4], dims=(10, 5))"
   ]
  }
 ],
 "metadata": {
  "kernelspec": {
   "display_name": "tf_old",
   "language": "python",
   "name": "python3"
  },
  "language_info": {
   "codemirror_mode": {
    "name": "ipython",
    "version": 3
   },
   "file_extension": ".py",
   "mimetype": "text/x-python",
   "name": "python",
   "nbconvert_exporter": "python",
   "pygments_lexer": "ipython3",
   "version": "3.10.8"
  }
 },
 "nbformat": 4,
 "nbformat_minor": 2
}
