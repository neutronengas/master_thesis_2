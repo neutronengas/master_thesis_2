{
 "cells": [
  {
   "cell_type": "code",
   "execution_count": 1,
   "metadata": {},
   "outputs": [],
   "source": [
    "import numpy as np\n",
    "import pickle\n",
    "import matplotlib.pyplot as plt\n",
    "from scipy.linalg import block_diag\n",
    "import scipy.sparse as sp\n",
    "import tensorflow as tf\n",
    "from datetime import datetime as dt"
   ]
  },
  {
   "cell_type": "markdown",
   "metadata": {},
   "source": [
    "**Load data**"
   ]
  },
  {
   "cell_type": "code",
   "execution_count": 2,
   "metadata": {},
   "outputs": [],
   "source": [
    "n2_data = np.load(\"n2_data.npz\", allow_pickle=True)\n",
    "data = n2_data[\"arr_0\"].tolist()\n",
    "N_u = 30"
   ]
  },
  {
   "cell_type": "markdown",
   "metadata": {},
   "source": [
    "**Transform C**"
   ]
  },
  {
   "cell_type": "code",
   "execution_count": 3,
   "metadata": {},
   "outputs": [],
   "source": [
    "C_all = data[\"C\"]\n",
    "C_all = np.reshape(C_all, (1200, 2, 5, 10))\n",
    "C_all = np.transpose(C_all, (0, 3, 1, 2))"
   ]
  },
  {
   "cell_type": "markdown",
   "metadata": {},
   "source": [
    "**Transform R**"
   ]
  },
  {
   "cell_type": "code",
   "execution_count": 4,
   "metadata": {},
   "outputs": [],
   "source": [
    "R_all = data[\"R\"]\n",
    "R_all = np.repeat(R_all, repeats=5, axis=1)\n",
    "C_mult = np.abs(data[\"C\"])\n",
    "R_all.shape\n",
    "C_mult.shape\n",
    "R_all_mean = np.einsum(\"nam,nar->nmr\", C_mult, R_all) / len(C_all[0])\n",
    "R_all = data[\"R\"][:, None, :, :] - R_all_mean[:, :, None, :]"
   ]
  },
  {
   "cell_type": "markdown",
   "metadata": {},
   "source": [
    "**Transform S**"
   ]
  },
  {
   "cell_type": "code",
   "execution_count": 5,
   "metadata": {},
   "outputs": [],
   "source": [
    "S_all = data[\"S\"]\n",
    "S_all = S_all.reshape((1200, 2, 5, 2, 5))\n",
    "filter = np.array([\n",
    "    [1., 1., 0.],\n",
    "    [1., 1., 0.],\n",
    "    [0., 0., 0.]\n",
    "])\n",
    "filter2 = np.array([\n",
    "    [0., 0., 0.],\n",
    "    [0., 0., 0.],\n",
    "    [0., 0., 1.]\n",
    "])\n",
    "S_s_part = S_all[:, :, :3, :, :3] * filter[None, None, :, None, :]\n",
    "S_p_part = np.einsum(\"nbaca->nbc\", S_all[:, :, 2:, :, 2:])\n",
    "S_p_part = S_p_part[:, :, None, :, None] * filter2[None, None, :, None, :]\n",
    "S_all = S_s_part + S_p_part"
   ]
  },
  {
   "cell_type": "markdown",
   "metadata": {},
   "source": [
    "**Transform H1**"
   ]
  },
  {
   "cell_type": "code",
   "execution_count": 6,
   "metadata": {},
   "outputs": [],
   "source": [
    "# TODO: validate\n",
    "H1_all = data[\"H1\"]\n",
    "C = data[\"C\"]\n",
    "H1_all = np.einsum(\"nba,nbe,nef->naf\", C, H1_all, C)\n",
    "H1_all = np.kron(np.eye(2), H1_all)\n",
    "a, b, c = np.nonzero(H1_all)\n",
    "h1_idx = np.stack([b, c], axis=1)\n",
    "h1_idx = np.reshape(h1_idx, (1200, 200, 2))"
   ]
  },
  {
   "cell_type": "markdown",
   "metadata": {},
   "source": [
    "**Transform H2**"
   ]
  },
  {
   "cell_type": "code",
   "execution_count": 7,
   "metadata": {},
   "outputs": [],
   "source": [
    "H2_all = data[\"H2\"]\n",
    "C = data[\"C\"]\n",
    "H2_all = np.einsum(\"nba,nxbey,nef->nxafy\", C, H2_all, C)\n",
    "H2_all = np.einsum(\"nba,nbxye,nef->naxyf\", C, H2_all, C)\n",
    "H2_all = np.kron(np.eye(2)[None, :, :, None, None] * np.eye(2)[None, None, None, :, :], H2_all)\n",
    "a, b, c, d, e = np.nonzero(H2_all)\n",
    "h2_idx = np.stack([b, c, d, e], axis=1)\n",
    "h2_idx = np.reshape(h2_idx, (1200, 40000, 4))"
   ]
  },
  {
   "cell_type": "markdown",
   "metadata": {},
   "source": [
    "**MO neighbours**"
   ]
  },
  {
   "cell_type": "code",
   "execution_count": 13,
   "metadata": {},
   "outputs": [],
   "source": [
    "mo_neighbours = data[\"H2\"]\n",
    "mo_neighbours = np.einsum(\"nabcd,ab,cd->nabcd\", mo_neighbours, np.eye(10), np.eye(10))\n",
    "mo_neighbours = np.einsum(\"nabcd->nac\", mo_neighbours)"
   ]
  },
  {
   "cell_type": "markdown",
   "metadata": {},
   "source": [
    "**Create Z**"
   ]
  },
  {
   "cell_type": "code",
   "execution_count": 14,
   "metadata": {},
   "outputs": [],
   "source": [
    "Z_n2 = np.array([0, 1, 2, 2, 2])\n",
    "Z_n2 = np.stack([Z_n2, Z_n2], axis=0)\n",
    "Z_all = np.stack([Z_n2 for _ in range(1200)], axis=0)"
   ]
  },
  {
   "cell_type": "markdown",
   "metadata": {},
   "source": [
    "**Create V_n**"
   ]
  },
  {
   "cell_type": "code",
   "execution_count": 15,
   "metadata": {},
   "outputs": [],
   "source": [
    "V_n = np.arange(10, dtype=np.float32) < 7\n",
    "V_n = np.stack([V_n, V_n], axis=0)\n",
    "V_n = np.repeat(V_n[None], repeats=1200, axis=0)"
   ]
  },
  {
   "cell_type": "code",
   "execution_count": 16,
   "metadata": {},
   "outputs": [],
   "source": [
    "n2_data_preprocessed = {\n",
    "    \"Z\": Z_all,\n",
    "    \"R\": R_all,\n",
    "    \"S\": S_all,\n",
    "    \"C\": C_all,\n",
    "    \"h1\": H1_all,\n",
    "    \"h1_idx\": h1_idx,\n",
    "    \"h2\": H2_all,\n",
    "    \"h2_idx\": h2_idx,\n",
    "    \"V_n\": V_n,\n",
    "    \"mo_neighbours\": mo_neighbours\n",
    "}\n",
    "np.savez(\"n2_data_preprocessed.npz\", n2_data_preprocessed)"
   ]
  },
  {
   "cell_type": "code",
   "execution_count": null,
   "metadata": {},
   "outputs": [],
   "source": []
  }
 ],
 "metadata": {
  "kernelspec": {
   "display_name": "Python 3",
   "language": "python",
   "name": "python3"
  },
  "language_info": {
   "codemirror_mode": {
    "name": "ipython",
    "version": 3
   },
   "file_extension": ".py",
   "mimetype": "text/x-python",
   "name": "python",
   "nbconvert_exporter": "python",
   "pygments_lexer": "ipython3",
   "version": "3.10.8"
  },
  "orig_nbformat": 4
 },
 "nbformat": 4,
 "nbformat_minor": 2
}
