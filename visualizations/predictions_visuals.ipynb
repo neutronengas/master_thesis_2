{
 "cells": [
  {
   "cell_type": "code",
   "execution_count": 1,
   "metadata": {},
   "outputs": [],
   "source": [
    "import matplotlib.pyplot as plt\n",
    "import numpy as np\n",
    "import os\n",
    "import re"
   ]
  },
  {
   "cell_type": "markdown",
   "metadata": {},
   "source": [
    "**Get prediction data**"
   ]
  },
  {
   "cell_type": "code",
   "execution_count": 2,
   "metadata": {},
   "outputs": [],
   "source": [
    "model_name = \"dmnet\"\n",
    "width_ticks = 10\n",
    "length_ticks = 2 * width_ticks\n",
    "files = os.listdir(\"../logging\")\n",
    "rel_files = [f for f in files if model_name in f]\n",
    "rel_files.sort()\n",
    "#directory = \"logging/20230810_165359_densnet_Ael8lbyb_md_h2.npz_densities_final\"  # Fill this in\n",
    "# Get latest run\n",
    "directory = f\"../logging/{rel_files[-1]}/preds.npz\"\n",
    "run_date = re.search(r'(.{16})' + model_name, rel_files[-1]).group(1)\n",
    "run_date = run_date.replace(\"_\", \" \")\n",
    "run_date = run_date[:-1]\n",
    "run_date = run_date[:4] + \".\" + run_date[4:6] + \".\" + run_date[6:11] + \":\" + run_date[11:13] + \":\" + run_date[13:]\n",
    "\n",
    "pred_data = np.load(directory, allow_pickle=True)"
   ]
  },
  {
   "cell_type": "code",
   "execution_count": 12,
   "metadata": {},
   "outputs": [
    {
     "data": {
      "text/plain": [
       "(800, 84, 84)"
      ]
     },
     "execution_count": 12,
     "metadata": {},
     "output_type": "execute_result"
    }
   ],
   "source": [
    "pred_dms = pred_data[\"pred_densities\"].reshape((800, 6, 6, 14, 14))\n",
    "pred_dms = pred_dms.transpose((0, 1, 3, 2, 4))\n",
    "pred_dms = pred_dms.reshape((800, 6 * 14, 6 * 14))\n",
    "pred_dms.shape"
   ]
  },
  {
   "cell_type": "code",
   "execution_count": 20,
   "metadata": {},
   "outputs": [
    {
     "data": {
      "text/plain": [
       "(800, 84, 84)"
      ]
     },
     "execution_count": 20,
     "metadata": {},
     "output_type": "execute_result"
    }
   ],
   "source": [
    "orig_data = np.load(\"../data/formamide.npz\", allow_pickle=True)\n",
    "diff_dms = orig_data[\"hf_1rdms\"] - orig_data[\"mp_1rdms\"]\n",
    "diff_dms = diff_dms.reshape((1100, 6, 6, 14, 14))\n",
    "diff_dms = diff_dms.transpose((0, 1, 3, 2, 4))\n",
    "diff_dms = diff_dms.reshape((1100, 6 * 14, 6 * 14))\n",
    "diff_dms = diff_dms[pred_data[\"data_idx\"]]\n",
    "diff_dms.shape"
   ]
  },
  {
   "cell_type": "markdown",
   "metadata": {},
   "source": [
    "**Plot density matrices**"
   ]
  },
  {
   "cell_type": "code",
   "execution_count": 23,
   "metadata": {},
   "outputs": [
    {
     "data": {
      "text/plain": [
       "<matplotlib.image.AxesImage at 0x10ee6fa30>"
      ]
     },
     "execution_count": 23,
     "metadata": {},
     "output_type": "execute_result"
    },
    {
     "data": {
      "image/png": "[encoded data removed]",
      "text/plain": [
       "<Figure size 640x480 with 1 Axes>"
      ]
     },
     "metadata": {},
     "output_type": "display_data"
    }
   ],
   "source": [
    "plt.imshow(pred_dms[0])"
   ]
  },
  {
   "cell_type": "code",
   "execution_count": null,
   "metadata": {},
   "outputs": [],
   "source": []
  }
 ],
 "metadata": {
  "kernelspec": {
   "display_name": "tf_old",
   "language": "python",
   "name": "python3"
  },
  "language_info": {
   "codemirror_mode": {
    "name": "ipython",
    "version": 3
   },
   "file_extension": ".py",
   "mimetype": "text/x-python",
   "name": "python",
   "nbconvert_exporter": "python",
   "pygments_lexer": "ipython3",
   "version": "3.10.8"
  },
  "orig_nbformat": 4
 },
 "nbformat": 4,
 "nbformat_minor": 2
}
