{
 "cells": [
  {
   "cell_type": "code",
   "execution_count": 2,
   "metadata": {},
   "outputs": [],
   "source": [
    "import numpy as np\n",
    "from functools import partial\n",
    "import pickle\n",
    "import matplotlib.pyplot as plt\n",
    "from sympy.physics.quantum.cg import CG\n",
    "import tensorflow as tf"
   ]
  },
  {
   "cell_type": "code",
   "execution_count": 1,
   "metadata": {},
   "outputs": [],
   "source": [
    "import numpy as np\n",
    "from sympy.physics.quantum.cg import CG\n",
    "\n",
    "def cgc_multiplier_ccpvdz():\n",
    "    # x, y: shape (14,)\n",
    "    \n",
    "    lm_pairs = [\n",
    "        [0, 0],\n",
    "        [0, 0],\n",
    "        [0, 0],\n",
    "        [1, -1],\n",
    "        [1, 0],\n",
    "        [1, 1],\n",
    "        [1, -1],\n",
    "        [1, 0],\n",
    "        [1, 1],\n",
    "        [2, -2],\n",
    "        [2, -1],\n",
    "        [2, 0],\n",
    "        [2, 1],\n",
    "        [2, 2]\n",
    "    ]\n",
    "\n",
    "    def cg_tensor(i, j, k):\n",
    "        l1, m1 = lm_pairs[i]\n",
    "        l2, m2 = lm_pairs[k]\n",
    "        l3, m3 = lm_pairs[j]\n",
    "\n",
    "        return CG(l1, m1, l2, m2, l3, m3).doit()\n",
    "    \n",
    "    tens = np.fromfunction(np.vectorize(cg_tensor), (14, 14, 14), dtype=np.int32)\n",
    "\n",
    "    return tens"
   ]
  },
  {
   "cell_type": "code",
   "execution_count": 33,
   "metadata": {},
   "outputs": [
    {
     "data": {
      "text/plain": [
       "array([[ 0.        ,  0.        ,  0.        ,  0.        ,  0.        ,\n",
       "         0.        ,  0.        ,  0.        ,  0.        ,  0.        ,\n",
       "         0.        ,  0.        ,  0.        ,  0.        ],\n",
       "       [ 0.        ,  0.        ,  0.        ,  0.        ,  0.        ,\n",
       "         0.        ,  0.        ,  0.        ,  0.        ,  0.        ,\n",
       "         0.        ,  0.        ,  0.        ,  0.        ],\n",
       "       [ 0.        ,  0.        ,  0.        ,  0.        ,  0.        ,\n",
       "         0.        ,  0.        ,  0.        ,  0.        ,  0.        ,\n",
       "         0.        ,  0.        ,  0.        ,  0.        ],\n",
       "       [ 0.        ,  0.        ,  0.        ,  0.        ,  0.        ,\n",
       "        -1.41421356,  0.        ,  0.        , -1.41421356,  0.        ,\n",
       "         0.        ,  0.        ,  0.        ,  0.        ],\n",
       "       [ 0.        ,  0.        ,  0.        ,  0.        ,  0.        ,\n",
       "         0.        ,  0.        ,  0.        ,  0.        ,  0.        ,\n",
       "         0.        ,  0.        ,  0.        ,  0.        ],\n",
       "       [ 0.        ,  0.        ,  0.        ,  1.41421356,  0.        ,\n",
       "         0.        ,  1.41421356,  0.        ,  0.        ,  0.        ,\n",
       "         0.        ,  0.        ,  0.        ,  0.        ],\n",
       "       [ 0.        ,  0.        ,  0.        ,  0.        ,  0.        ,\n",
       "        -1.41421356,  0.        ,  0.        , -1.41421356,  0.        ,\n",
       "         0.        ,  0.        ,  0.        ,  0.        ],\n",
       "       [ 0.        ,  0.        ,  0.        ,  0.        ,  0.        ,\n",
       "         0.        ,  0.        ,  0.        ,  0.        ,  0.        ,\n",
       "         0.        ,  0.        ,  0.        ,  0.        ],\n",
       "       [ 0.        ,  0.        ,  0.        ,  1.41421356,  0.        ,\n",
       "         0.        ,  1.41421356,  0.        ,  0.        ,  0.        ,\n",
       "         0.        ,  0.        ,  0.        ,  0.        ],\n",
       "       [ 0.        ,  0.        ,  0.        ,  0.        ,  0.        ,\n",
       "         0.        ,  0.        ,  0.        ,  0.        ,  0.        ,\n",
       "         0.        ,  0.        ,  0.        , -1.26491106],\n",
       "       [ 0.        ,  0.        ,  0.        ,  0.        ,  0.        ,\n",
       "         0.        ,  0.        ,  0.        ,  0.        ,  0.        ,\n",
       "         0.        ,  0.        ,  0.63245553,  0.        ],\n",
       "       [ 0.        ,  0.        ,  0.        ,  0.        ,  0.        ,\n",
       "         0.        ,  0.        ,  0.        ,  0.        ,  0.        ,\n",
       "         0.        ,  0.        ,  0.        ,  0.        ],\n",
       "       [ 0.        ,  0.        ,  0.        ,  0.        ,  0.        ,\n",
       "         0.        ,  0.        ,  0.        ,  0.        ,  0.        ,\n",
       "        -0.63245553,  0.        ,  0.        ,  0.        ],\n",
       "       [ 0.        ,  0.        ,  0.        ,  0.        ,  0.        ,\n",
       "         0.        ,  0.        ,  0.        ,  0.        ,  1.26491106,\n",
       "         0.        ,  0.        ,  0.        ,  0.        ]])"
      ]
     },
     "execution_count": 33,
     "metadata": {},
     "output_type": "execute_result"
    }
   ],
   "source": [
    "W = cgc_multiplier().astype(float)\n",
    "a1 = np.random.random((14,))\n",
    "a2 = np.random.random((14,))\n",
    "a3 = np.random.random((14,))\n",
    "\n",
    "W[:, 4, :] - W[:, 4, :].T"
   ]
  },
  {
   "cell_type": "code",
   "execution_count": 37,
   "metadata": {},
   "outputs": [
    {
     "data": {
      "text/plain": [
       "array([[13.39673551, 15.76149442, 15.51063534],\n",
       "       [14.83188433, 15.01254834, 13.77247093],\n",
       "       [15.72878687, 14.55829957, 15.12686288]])"
      ]
     },
     "execution_count": 37,
     "metadata": {},
     "output_type": "execute_result"
    }
   ],
   "source": [
    "tens = np.random.random((3, 3, 3, 3, 3, 3))\n",
    "vec1 = np.random.random((3, 3))\n",
    "vec2 = vec1\n",
    "np.einsum(\"abcdef,cd,ef->ab\", tens, vec1, vec2)"
   ]
  },
  {
   "cell_type": "code",
   "execution_count": 8,
   "metadata": {},
   "outputs": [],
   "source": [
    "def rdm_padding(rdm, Z):\n",
    "    num_orbitals = np.array([5 if z < 3 else 14 for z in Z])\n",
    "    rdm_atom_start_indices = np.concatenate([[0], num_orbitals]).cumsum()\n",
    "    insert_start_positions = rdm_atom_start_indices[1:][rdm_atom_start_indices[1:] - rdm_atom_start_indices[:-1] == 5]\n",
    "    insertum = np.zeros((9, rdm.shape[1]))\n",
    "    for index in reversed(insert_start_positions):\n",
    "        rdm = np.insert(rdm, index, insertum, axis=0)\n",
    "    rdm = rdm.T\n",
    "    insertum = np.zeros((9, rdm.shape[1]))\n",
    "    for index in reversed(insert_start_positions):\n",
    "        rdm = np.insert(rdm, index, insertum, axis=0)\n",
    "    for i in np.concatenate([[0], (14 * np.ones_like(Z, dtype=np.int32))[:-1]]).cumsum()[Z <= 2] + 2:\n",
    "        rdm[:, [i, i + 1, i + 2, i + 3]] = rdm[:, [i + 3, i, i + 1, i + 2]]\n",
    "        rdm[[i, i + 1, i + 2, i + 3], :] = rdm[[i + 3, i, i + 1, i + 2], :]\n",
    "    return rdm"
   ]
  },
  {
   "cell_type": "code",
   "execution_count": 16,
   "metadata": {},
   "outputs": [],
   "source": [
    "def C_padding(C, Z):\n",
    "    num_orbitals = np.array([5 if z < 3 else 14 for z in Z])\n",
    "    C_atom_start_indices = np.concatenate([[0], num_orbitals]).cumsum()\n",
    "    insert_start_positions = C_atom_start_indices[1:][C_atom_start_indices[1:] - C_atom_start_indices[:-1] == 5]\n",
    "    insertum = np.zeros((9, C.shape[1]))\n",
    "    for index in reversed(insert_start_positions):\n",
    "        C = np.insert(C, index, insertum, axis=0)\n",
    "    return C"
   ]
  },
  {
   "cell_type": "code",
   "execution_count": 25,
   "metadata": {},
   "outputs": [],
   "source": [
    "def truncate_C(C, Z, R, no_basis_fct=14, epsilon=0.005):\n",
    "    # out: mo_coeffs (None, 14); mo_coeff_atom_idx (None,); mo_R (None, 3)\n",
    "    no_orb = len(C)\n",
    "    R_repeat = np.repeat(R, repeats=no_basis_fct, axis=0)\n",
    "    C = C_padding(C, Z)\n",
    "    mo_coeffs = []\n",
    "    mo_coeffs_Z = []\n",
    "    mo_coeffs_n = []\n",
    "    mo_coeffs_R = []\n",
    "    for i in range(no_orb):\n",
    "        mo_coeffs_i = C[:, i]\n",
    "        mo_coeffs_new = []\n",
    "        mo_coeffs_i_Z = []\n",
    "        for atom in range(len(mo_coeffs_i) // no_basis_fct):\n",
    "            mo_coeffs_per_atom = mo_coeffs_i[no_basis_fct * atom : no_basis_fct * (atom + 1)]\n",
    "            if np.abs(mo_coeffs_per_atom).sum() / np.abs(mo_coeffs_i).sum() > epsilon:\n",
    "                mo_coeffs_new += list(mo_coeffs_per_atom)\n",
    "                mo_coeffs_i_Z.append(Z[atom])\n",
    "        mo_coeffs += mo_coeffs_new\n",
    "        mo_coeffs_Z += mo_coeffs_i_Z\n",
    "        mo_coeffs_n.append(len(mo_coeffs_i_Z))\n",
    "\n",
    "        R_avg = np.abs(mo_coeffs_i)[:, None] * R_repeat / np.abs(mo_coeffs_i).sum()\n",
    "        mo_coeffs_R += list(R_avg)\n",
    "\n",
    "    mo_coeffs = np.array(mo_coeffs)\n",
    "    mo_coeffs_Z = np.array(mo_coeffs_Z)\n",
    "    mo_coeffs_n = np.array(mo_coeffs_n)\n",
    "    mo_coeffs_R = np.array(mo_coeffs_R)\n",
    "\n",
    "    return mo_coeffs, mo_coeffs_Z, mo_coeffs_n, mo_coeffs_R"
   ]
  },
  {
   "cell_type": "code",
   "execution_count": 1,
   "metadata": {},
   "outputs": [],
   "source": [
    "def mo_neighbours(C, Z, R, e, cutoff):\n",
    "    has_5_func = Z <= 2\n",
    "    repeats = 5 * has_5_func + 14 * (1 - has_5_func)\n",
    "    R_repeat = np.repeat(R, repeats=repeats, axis=0)\n",
    "    mo_positions = C[:, :, None] * R_repeat[:, None, 3] * np.abs(C) / (np.abs(C).sum(axis=0)[None, :, :])\n",
    "    mo_positions = mo_positions.sum(axis=0)\n",
    "    distance_matrix = np.linalg.norm(mo_positions[:, None, :] - mo_positions[None, :, :], axis=-1)\n",
    "    return distance_matrix"
   ]
  },
  {
   "cell_type": "code",
   "execution_count": null,
   "metadata": {},
   "outputs": [],
   "source": []
  },
  {
   "cell_type": "code",
   "execution_count": 4,
   "metadata": {},
   "outputs": [],
   "source": [
    "def add_Z_and_N(dict, Z):\n",
    "    n_mols = len(dict[\"R\"])\n",
    "    N = Z.shape[0] * np.ones((n_mols,), dtype=np.int32)\n",
    "    dict[\"Z\"] = np.tile(Z, n_mols)\n",
    "    dict[\"N\"] = np.tile(N, n_mols)\n",
    "    return dict"
   ]
  },
  {
   "cell_type": "markdown",
   "metadata": {},
   "source": [
    "**H2**"
   ]
  },
  {
   "cell_type": "code",
   "execution_count": 5,
   "metadata": {},
   "outputs": [],
   "source": [
    "# data = np.load(\"../../data/md_h2.npz\", allow_pickle=True)\n",
    "# Z = np.array([1, 1])\n",
    "# data = add_Z_and_N(data, Z)\n",
    "# rdm_hf = data[\"hf_rdm\"]\n",
    "# h2_rdm_pad = partial(rdm_padding, Z=Z)\n",
    "# rdm_hf = np.vectorize(h2_rdm_pad, signature=\"(a,a)->(b,b)\")(rdm_hf)\n",
    "# print(rdm_hf.shape)\n",
    "# rdm_hf = np.vectorize(rdm_reshape, signature=\"(a,a)->(c,b,b)\")(rdm_hf)\n",
    "# rdm_hf = np.reshape(rdm_hf, (rdm_hf.shape[0] * rdm_hf.shape[1], rdm_hf.shape[2], rdm_hf.shape[3]))\n",
    "# data[\"hf_rdm\"] = rdm_hf\n",
    "# data[\"N_rdm\"] = data[\"N\"] ** 2\n",
    "# # restrict train coords to the useful ones\n",
    "# for key in [\"train_coords\", \"hf_train_density\", \"mp_train_density\"]:\n",
    "#     data[key] = data[key][:, :140]"
   ]
  },
  {
   "cell_type": "code",
   "execution_count": 7,
   "metadata": {},
   "outputs": [],
   "source": [
    "#with open(\"../../data/md_h2.npz\", \"wb\") as f:\n",
    "#     pickle.dump(data, f)"
   ]
  },
  {
   "cell_type": "markdown",
   "metadata": {},
   "source": [
    "**Benzene**"
   ]
  },
  {
   "cell_type": "code",
   "execution_count": null,
   "metadata": {},
   "outputs": [],
   "source": [
    "data = np.load(\"../../data/md_benzene_mod.npz\", allow_pickle=True)\n",
    "Z = np.array([6, 6, 6, 6, 6, 6, 1, 1, 1, 1, 1, 1])\n",
    "data = add_Z_and_N(data, Z)\n",
    "rdm_hf = data[\"hf_rdm\"]\n",
    "h2_rdm_pad = partial(rdm_padding, Z=Z)\n",
    "rdm_hf = np.vectorize(h2_rdm_pad, signature=\"(a,a)->(b,b)\")(rdm_hf)\n",
    "rdm_hf = np.vectorize(rdm_reshape, signature=\"(a,a)->(c,b,b)\")(rdm_hf)\n",
    "rdm_hf = np.reshape(rdm_hf, (rdm_hf.shape[0] * rdm_hf.shape[1], rdm_hf.shape[2], rdm_hf.shape[3]))\n",
    "data[\"hf_rdm\"] = rdm_hf\n",
    "data[\"N_rdm\"] = data[\"N\"] ** 2"
   ]
  },
  {
   "cell_type": "code",
   "execution_count": null,
   "metadata": {},
   "outputs": [],
   "source": [
    "with open(\"../../data/md_benzene_mod.npz\", \"wb\") as f:\n",
    "    pickle.dump(data, f)"
   ]
  },
  {
   "cell_type": "markdown",
   "metadata": {},
   "source": [
    "**Formamide**"
   ]
  },
  {
   "cell_type": "code",
   "execution_count": 9,
   "metadata": {},
   "outputs": [],
   "source": [
    "data = np.load(\"../../data/formamide.npz\", allow_pickle=True)\n",
    "Z = np.array([7, 1, 1, 6, 8, 1])\n",
    "data = add_Z_and_N(data, Z)\n",
    "\n",
    "# Hartree-Fock RDM\n",
    "rdm_hf = data[\"hf_1rdms\"]\n",
    "rdm_pad = partial(rdm_padding, Z=Z)\n",
    "rdm_hf = np.vectorize(rdm_pad, signature=\"(a,a)->(b,b)\")(rdm_hf)\n",
    "rdm_hf = np.vectorize(rdm_reshape, signature=\"(a,a)->(c,b,b)\")(rdm_hf)\n",
    "rdm_hf = np.reshape(rdm_hf, (rdm_hf.shape[0] * rdm_hf.shape[1], rdm_hf.shape[2], rdm_hf.shape[3]))\n",
    "data[\"hf_1rdms\"] = rdm_hf\n",
    "\n",
    "# MP2 RDM\n",
    "rdm_mp = data[\"mp_1rdms\"]\n",
    "rdm_pad = partial(rdm_padding, Z=Z)\n",
    "rdm_mp = np.vectorize(rdm_pad, signature=\"(a,a)->(b,b)\")(rdm_mp)\n",
    "rdm_mp = np.vectorize(rdm_reshape, signature=\"(a,a)->(c,b,b)\")(rdm_mp)\n",
    "rdm_mp = np.reshape(rdm_mp, (rdm_mp.shape[0] * rdm_mp.shape[1], rdm_mp.shape[2], rdm_mp.shape[3]))\n",
    "data[\"mp_1rdms\"] = rdm_mp\n",
    "\n",
    "data[\"N_rdm\"] = data[\"N\"] ** 2"
   ]
  },
  {
   "cell_type": "code",
   "execution_count": 10,
   "metadata": {},
   "outputs": [],
   "source": [
    "with open(\"../../data/formamide.npz\", \"wb\") as f:\n",
    "    pickle.dump(data, f)"
   ]
  },
  {
   "cell_type": "code",
   "execution_count": 11,
   "metadata": {},
   "outputs": [
    {
     "data": {
      "text/plain": [
       "dict_keys(['R', 'grid_coordss', 'sphere_coordss', 'hf_1rdms', 'mp_1rdms', 'hf_grid_densities', 'hf_sphere_densities', 'mp_grid_densities', 'mp_sphere_densities', 'dft_grid_densities', 'dft_sphere_densities', 'Z', 'N', 'N_rdm'])"
      ]
     },
     "execution_count": 11,
     "metadata": {},
     "output_type": "execute_result"
    }
   ],
   "source": [
    "data = np.load(\"../../data/formamide.npz\", allow_pickle=True)\n",
    "data.keys()"
   ]
  },
  {
   "cell_type": "code",
   "execution_count": 12,
   "metadata": {},
   "outputs": [
    {
     "data": {
      "text/plain": [
       "(33552, 14, 14)"
      ]
     },
     "execution_count": 12,
     "metadata": {},
     "output_type": "execute_result"
    }
   ],
   "source": [
    "data[\"mp_1rdms\"].shape"
   ]
  },
  {
   "cell_type": "code",
   "execution_count": null,
   "metadata": {},
   "outputs": [],
   "source": []
  }
 ],
 "metadata": {
  "kernelspec": {
   "display_name": "tf_old",
   "language": "python",
   "name": "python3"
  },
  "language_info": {
   "codemirror_mode": {
    "name": "ipython",
    "version": 3
   },
   "file_extension": ".py",
   "mimetype": "text/x-python",
   "name": "python",
   "nbconvert_exporter": "python",
   "pygments_lexer": "ipython3",
   "version": "3.10.8"
  },
  "orig_nbformat": 4
 },
 "nbformat": 4,
 "nbformat_minor": 2
}
