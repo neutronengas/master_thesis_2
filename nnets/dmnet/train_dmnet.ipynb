{
 "cells": [
  {
   "cell_type": "code",
   "execution_count": 1,
   "metadata": {},
   "outputs": [
    {
     "name": "stderr",
     "output_type": "stream",
     "text": [
      "/Users/benni/anaconda3/envs/tf_old/lib/python3.10/site-packages/tensorflow_addons/utils/tfa_eol_msg.py:23: UserWarning: \n",
      "\n",
      "TensorFlow Addons (TFA) has ended development and introduction of new features.\n",
      "TFA has entered a minimal maintenance and release mode until a planned end of life in May 2024.\n",
      "Please modify downstream libraries to take dependencies from other repositories in our TensorFlow community (e.g. Keras, Keras-CV, and Keras-NLP). \n",
      "\n",
      "For more information see: https://github.com/tensorflow/addons/issues/2807 \n",
      "\n",
      "  warnings.warn(\n",
      "/Users/benni/anaconda3/envs/tf_old/lib/python3.10/site-packages/tensorflow_addons/utils/ensure_tf_install.py:53: UserWarning: Tensorflow Addons supports using Python ops for all Tensorflow versions above or equal to 2.11.0 and strictly below 2.14.0 (nightly versions are not supported). \n",
      " The versions of TensorFlow you are currently using is 2.10.0 and is not supported. \n",
      "Some things might work, some things might not.\n",
      "If you were to encounter a bug, do not file an issue.\n",
      "If you want to make sure you're using a tested and supported configuration, either change the TensorFlow version or the TensorFlow Addons's version. \n",
      "You can find the compatibility matrix in TensorFlow Addon's readme:\n",
      "https://github.com/tensorflow/addons\n",
      "  warnings.warn(\n"
     ]
    }
   ],
   "source": [
    "import tensorflow as tf\n",
    "import numpy as np\n",
    "import os\n",
    "import ast\n",
    "import logging\n",
    "import string\n",
    "import random\n",
    "import yaml\n",
    "\n",
    "from datetime import datetime\n",
    "\n",
    "from model.dmnet import DMNet\n",
    "from model.activations import swish\n",
    "from training.metrics import Metrics\n",
    "from training.trainer import Trainer\n",
    "from training.data_container import DataContainer\n",
    "from training.data_provider import DataProvider"
   ]
  },
  {
   "cell_type": "code",
   "execution_count": 2,
   "metadata": {},
   "outputs": [],
   "source": [
    "# set up logger\n",
    "logger = logging.getLogger()\n",
    "\n",
    "logger.handlers = []\n",
    "ch = logging.StreamHandler()\n",
    "formatter = logging.Formatter(\n",
    "    fmt='%(asctime)s (%(levelname)s): %(message)s',\n",
    "    datefmt='%Y-%m-%d %H:%M:%S'\n",
    ")\n",
    "ch.setFormatter(formatter)\n",
    "logger.addHandler(ch)\n",
    "logger.setLevel('INFO')\n",
    "os.environ['TF_CPP_MIN_LOG_LEVEL'] = '1'\n",
    "tf.get_logger().setLevel('WARN')\n",
    "tf.autograph.set_verbosity(2)"
   ]
  },
  {
   "cell_type": "code",
   "execution_count": 3,
   "metadata": {},
   "outputs": [],
   "source": [
    "with open('../configs/config_dmnet.yaml', 'r') as c:\n",
    "    config = yaml.safe_load(c)"
   ]
  },
  {
   "cell_type": "code",
   "execution_count": 4,
   "metadata": {},
   "outputs": [],
   "source": [
    "for key, val in config.items():\n",
    "    if type(val) is str:\n",
    "        try:\n",
    "            config[key] = ast.literal_eval(val)\n",
    "        except (ValueError, SyntaxError):\n",
    "            pass"
   ]
  },
  {
   "cell_type": "code",
   "execution_count": 5,
   "metadata": {},
   "outputs": [],
   "source": [
    "model_name = config['model_name']\n",
    "\n",
    "emb_size = config['emb_size']\n",
    "num_interaction_blocks = config['num_interaction_blocks']\n",
    "width_ticks = config['width_ticks']\n",
    "length_ticks = config['length_ticks']\n",
    "cutoff = config['cutoff']\n",
    "m_max = config[\"m_max\"]\n",
    "max_no_orbitals_per_m = config[\"max_no_orbitals_per_m\"]\n",
    "max_split_per_m = config[\"max_split_per_m\"]\n",
    "max_number_coeffs_per_ao = config[\"max_number_coeffs_per_ao\"]\n",
    "\n",
    "num_train = config['num_train']\n",
    "num_valid = config['num_valid']\n",
    "data_seed = config['data_seed']\n",
    "dataset = config['dataset']\n",
    "logdir = config['logdir']\n",
    "\n",
    "num_steps = config['num_steps']\n",
    "ema_decay = config['ema_decay']\n",
    "\n",
    "learning_rate = config['learning_rate']\n",
    "warmup_steps = config['warmup_steps']\n",
    "decay_rate = config['decay_rate']\n",
    "decay_steps = config['decay_steps']\n",
    "\n",
    "batch_size = config['batch_size']\n",
    "evaluation_interval = config['evaluation_interval']\n",
    "save_interval = config['save_interval']\n",
    "restart = config['restart']\n",
    "comment = config['comment']\n",
    "target = config['target']"
   ]
  },
  {
   "attachments": {},
   "cell_type": "markdown",
   "metadata": {},
   "source": [
    "***Create directories***"
   ]
  },
  {
   "cell_type": "code",
   "execution_count": 6,
   "metadata": {},
   "outputs": [
    {
     "name": "stderr",
     "output_type": "stream",
     "text": [
      "2023-11-28 15:07:41 (INFO): Directory: ../logging/20231128_150741_dmnet_dPIMvQBM_md_benzene_mod.npz_mp_density_final\n"
     ]
    }
   ],
   "source": [
    "# Used for creating a random \"unique\" id for this run\n",
    "def id_generator(size=8, chars=string.ascii_uppercase + string.ascii_lowercase + string.digits):\n",
    "    return ''.join(random.SystemRandom().choice(chars) for _ in range(size))\n",
    "\n",
    "# Create directories\n",
    "# A unique directory name is created for this run based on the input\n",
    "if restart is None:\n",
    "    directory = (logdir + \"/\" + datetime.now().strftime(\"%Y%m%d_%H%M%S\") + \"_\" + model_name\n",
    "                 + \"_\" + id_generator()\n",
    "                 + \"_\" + os.path.basename(dataset)\n",
    "                 + \"_\" + '-'.join(target)\n",
    "                 + \"_\" + comment)\n",
    "else:\n",
    "    directory = restart\n",
    "logging.info(f\"Directory: {directory}\")\n",
    "\n",
    "if not os.path.exists(directory):\n",
    "    os.makedirs(directory)\n",
    "best_dir = os.path.join(directory, 'best')\n",
    "if not os.path.exists(best_dir):\n",
    "    os.makedirs(best_dir)\n",
    "log_dir = os.path.join(directory, 'logs')\n",
    "if not os.path.exists(log_dir):\n",
    "    os.makedirs(log_dir)\n",
    "best_loss_file = os.path.join(best_dir, 'best_loss.npz')\n",
    "best_ckpt_file = os.path.join(best_dir, 'ckpt')\n",
    "step_ckpt_folder = log_dir"
   ]
  },
  {
   "attachments": {},
   "cell_type": "markdown",
   "metadata": {},
   "source": [
    "***Create summary writer and metrics***"
   ]
  },
  {
   "cell_type": "code",
   "execution_count": 7,
   "metadata": {},
   "outputs": [],
   "source": [
    "summary_writer = tf.summary.create_file_writer(log_dir)\n",
    "train = {}\n",
    "validation = {}\n",
    "train['metrics'] = Metrics('train', target)\n",
    "validation['metrics'] = Metrics('val', target)"
   ]
  },
  {
   "attachments": {},
   "cell_type": "markdown",
   "metadata": {},
   "source": [
    "*Load Dataset*"
   ]
  },
  {
   "cell_type": "code",
   "execution_count": 8,
   "metadata": {},
   "outputs": [
    {
     "name": "stderr",
     "output_type": "stream",
     "text": [
      "2023-11-28 15:07:41.199477: W tensorflow/core/platform/profile_utils/cpu_utils.cc:128] Failed to get CPU frequency: 0 Hz\n"
     ]
    }
   ],
   "source": [
    "data_container = DataContainer(dataset, target, cutoff, length_ticks * width_ticks)\n",
    "\n",
    "orbital_parameters = (m_max, max_no_orbitals_per_m, max_split_per_m, max_number_coeffs_per_ao)\n",
    "data_provider = DataProvider(data_container, width_ticks, length_ticks, num_train, num_valid, batch_size, seed=data_seed, randomized=True)\n",
    "\n",
    "train['dataset'] = data_provider.get_dataset('train').prefetch(tf.data.experimental.AUTOTUNE)\n",
    "train['dataset_iter'] = iter(train['dataset'])\n",
    "validation['dataset'] = data_provider.get_dataset('val').prefetch(tf.data.experimental.AUTOTUNE)\n",
    "validation['dataset_iter'] = iter(validation['dataset'])"
   ]
  },
  {
   "attachments": {},
   "cell_type": "markdown",
   "metadata": {},
   "source": [
    "*Initialize model*"
   ]
  },
  {
   "cell_type": "code",
   "execution_count": 9,
   "metadata": {},
   "outputs": [],
   "source": [
    "if model_name == \"dmnet\":\n",
    "    model = DMNet(emb_size, num_interaction_blocks=num_interaction_blocks)\n",
    "else:\n",
    "    model = DMNet(emb_size, num_interaction_blocks=num_interaction_blocks)"
   ]
  },
  {
   "attachments": {},
   "cell_type": "markdown",
   "metadata": {},
   "source": [
    "*Save/load best recorded loss*"
   ]
  },
  {
   "cell_type": "code",
   "execution_count": 10,
   "metadata": {},
   "outputs": [
    {
     "name": "stderr",
     "output_type": "stream",
     "text": [
      "/Users/benni/Documents/MA/models/nnets/dmnet/training/metrics.py:68: RuntimeWarning: divide by zero encountered in log\n",
      "  return np.mean(np.log(self.maes)).item()\n"
     ]
    }
   ],
   "source": [
    "if os.path.isfile(best_loss_file):\n",
    "    loss_file = np.load(best_loss_file)\n",
    "    metrics_best = {k: v.item() for k, v in loss_file.items()}\n",
    "else:\n",
    "    metrics_best = validation['metrics'].result()\n",
    "    for key in metrics_best.keys():\n",
    "        metrics_best[key] = np.inf\n",
    "    metrics_best['step'] = 0\n",
    "    np.savez(best_loss_file, **metrics_best)"
   ]
  },
  {
   "attachments": {},
   "cell_type": "markdown",
   "metadata": {},
   "source": [
    "*Initialize trainer*"
   ]
  },
  {
   "cell_type": "code",
   "execution_count": 11,
   "metadata": {},
   "outputs": [],
   "source": [
    "trainer = Trainer(model, learning_rate, warmup_steps, decay_steps, decay_rate, ema_decay, max_grad_norm=1000)"
   ]
  },
  {
   "attachments": {},
   "cell_type": "markdown",
   "metadata": {},
   "source": [
    "*Set up checkpointing and load latest checkpoint*"
   ]
  },
  {
   "cell_type": "code",
   "execution_count": 12,
   "metadata": {},
   "outputs": [],
   "source": [
    "# Set up checkpointing\n",
    "ckpt = tf.train.Checkpoint(step=tf.Variable(1), optimizer=trainer.optimizer, model=model)\n",
    "manager = tf.train.CheckpointManager(ckpt, step_ckpt_folder, max_to_keep=3)\n",
    "\n",
    "# Restore latest checkpoint\n",
    "ckpt_restored = tf.train.latest_checkpoint(log_dir)\n",
    "if ckpt_restored is not None:\n",
    "    ckpt.restore(ckpt_restored)"
   ]
  },
  {
   "attachments": {},
   "cell_type": "markdown",
   "metadata": {},
   "source": [
    "*Training loop*"
   ]
  },
  {
   "cell_type": "code",
   "execution_count": 13,
   "metadata": {},
   "outputs": [
    {
     "name": "stderr",
     "output_type": "stream",
     "text": [
      "/Users/benni/anaconda3/envs/tf_old/lib/python3.10/site-packages/tensorflow/python/framework/indexed_slices.py:444: UserWarning: Converting sparse IndexedSlices(IndexedSlices(indices=Tensor(\"gradient_tape/dmnet/output/Reshape_3:0\", shape=(None,), dtype=int32), values=Tensor(\"gradient_tape/dmnet/output/Reshape_2:0\", shape=(None, 14, 10), dtype=float32), dense_shape=Tensor(\"gradient_tape/dmnet/output/Cast:0\", shape=(3,), dtype=int32))) to a dense Tensor of unknown shape. This may consume a large amount of memory.\n",
      "  warnings.warn(\n",
      "2023-11-28 15:08:28 (INFO): 100/10000 (epoch 1):Loss: train=0.459913, val=0.491936;logMAE: train=-0.776719, val=-0.709407\n",
      "2023-11-28 15:09:15 (INFO): 200/10000 (epoch 2):Loss: train=0.445576, val=0.488988;logMAE: train=-0.808387, val=-0.715417\n",
      "2023-11-28 15:10:03 (INFO): 300/10000 (epoch 2):Loss: train=0.393890, val=0.481687;logMAE: train=-0.931684, val=-0.730462\n",
      "2023-11-28 15:10:52 (INFO): 400/10000 (epoch 3):Loss: train=0.354684, val=0.468978;logMAE: train=-1.036528, val=-0.757199\n",
      "2023-11-28 15:11:45 (INFO): 500/10000 (epoch 3):Loss: train=0.309364, val=0.451267;logMAE: train=-1.173237, val=-0.795695\n",
      "2023-11-28 15:12:36 (INFO): 600/10000 (epoch 4):Loss: train=0.273573, val=0.430756;logMAE: train=-1.296186, val=-0.842213\n",
      "2023-11-28 15:13:28 (INFO): 700/10000 (epoch 4):Loss: train=0.256148, val=0.409770;logMAE: train=-1.361999, val=-0.892159\n",
      "2023-11-28 15:14:22 (INFO): 800/10000 (epoch 5):Loss: train=0.249569, val=0.390219;logMAE: train=-1.388022, val=-0.941047\n",
      "2023-11-28 15:15:21 (INFO): 900/10000 (epoch 5):Loss: train=0.232181, val=0.372439;logMAE: train=-1.460239, val=-0.987681\n",
      "2023-11-28 15:16:09 (INFO): 1000/10000 (epoch 6):Loss: train=0.220382, val=0.356019;logMAE: train=-1.512392, val=-1.032771\n",
      "2023-11-28 15:16:57 (INFO): 1100/10000 (epoch 6):Loss: train=0.215311, val=0.340812;logMAE: train=-1.535671, val=-1.076423\n",
      "2023-11-28 15:17:45 (INFO): 1200/10000 (epoch 7):Loss: train=0.202327, val=0.326727;logMAE: train=-1.597871, val=-1.118629\n",
      "2023-11-28 15:18:33 (INFO): 1300/10000 (epoch 7):Loss: train=0.199757, val=0.313527;logMAE: train=-1.610654, val=-1.159869\n",
      "2023-11-28 15:19:22 (INFO): 1400/10000 (epoch 8):Loss: train=0.197397, val=0.301301;logMAE: train=-1.622539, val=-1.199646\n",
      "2023-11-28 15:20:10 (INFO): 1500/10000 (epoch 8):Loss: train=0.192761, val=0.289853;logMAE: train=-1.646305, val=-1.238381\n",
      "2023-11-28 15:21:04 (INFO): 1600/10000 (epoch 9):Loss: train=0.184336, val=0.279325;logMAE: train=-1.690997, val=-1.275380\n",
      "2023-11-28 15:21:54 (INFO): 1700/10000 (epoch 9):Loss: train=0.178759, val=0.269293;logMAE: train=-1.721714, val=-1.311955\n",
      "2023-11-28 15:22:43 (INFO): 1800/10000 (epoch 10):Loss: train=0.173983, val=0.259898;logMAE: train=-1.748796, val=-1.347466\n",
      "2023-11-28 15:23:35 (INFO): 1900/10000 (epoch 10):Loss: train=0.164609, val=0.250977;logMAE: train=-1.804181, val=-1.382396\n",
      "2023-11-28 15:24:26 (INFO): 2000/10000 (epoch 11):Loss: train=0.163238, val=0.242456;logMAE: train=-1.812546, val=-1.416935\n",
      "2023-11-28 15:25:16 (INFO): 2100/10000 (epoch 11):Loss: train=0.160297, val=0.234185;logMAE: train=-1.830726, val=-1.451645\n",
      "2023-11-28 15:26:05 (INFO): 2200/10000 (epoch 12):Loss: train=0.144850, val=0.226256;logMAE: train=-1.932059, val=-1.486090\n",
      "2023-11-28 15:26:54 (INFO): 2300/10000 (epoch 12):Loss: train=0.145932, val=0.218823;logMAE: train=-1.924613, val=-1.519493\n",
      "2023-11-28 15:27:43 (INFO): 2400/10000 (epoch 13):Loss: train=0.141818, val=0.211291;logMAE: train=-1.953210, val=-1.554517\n",
      "2023-11-28 15:28:31 (INFO): 2500/10000 (epoch 13):Loss: train=0.139809, val=0.204307;logMAE: train=-1.967475, val=-1.588134\n",
      "2023-11-28 15:29:21 (INFO): 2600/10000 (epoch 14):Loss: train=0.134567, val=0.197387;logMAE: train=-2.005694, val=-1.622587\n",
      "2023-11-28 15:30:09 (INFO): 2700/10000 (epoch 14):Loss: train=0.131766, val=0.190956;logMAE: train=-2.026726, val=-1.655711\n",
      "2023-11-28 15:30:58 (INFO): 2800/10000 (epoch 15):Loss: train=0.133044, val=0.184911;logMAE: train=-2.017075, val=-1.687880\n",
      "2023-11-28 15:31:48 (INFO): 2900/10000 (epoch 15):Loss: train=0.134659, val=0.179301;logMAE: train=-2.005007, val=-1.718687\n",
      "2023-11-28 15:32:39 (INFO): 3000/10000 (epoch 16):Loss: train=0.121095, val=0.174032;logMAE: train=-2.111177, val=-1.748516\n",
      "2023-11-28 15:33:29 (INFO): 3100/10000 (epoch 16):Loss: train=0.122624, val=0.169063;logMAE: train=-2.098634, val=-1.777484\n",
      "2023-11-28 15:34:17 (INFO): 3200/10000 (epoch 17):Loss: train=0.128249, val=0.164675;logMAE: train=-2.053782, val=-1.803782\n",
      "2023-11-28 15:35:07 (INFO): 3300/10000 (epoch 17):Loss: train=0.119761, val=0.160535;logMAE: train=-2.122254, val=-1.829246\n",
      "2023-11-28 15:36:00 (INFO): 3400/10000 (epoch 18):Loss: train=0.125892, val=0.156821;logMAE: train=-2.072330, val=-1.852650\n",
      "2023-11-28 15:36:49 (INFO): 3500/10000 (epoch 18):Loss: train=0.123140, val=0.153352;logMAE: train=-2.094431, val=-1.875021\n",
      "2023-11-28 15:37:40 (INFO): 3600/10000 (epoch 19):Loss: train=0.119245, val=0.150208;logMAE: train=-2.126578, val=-1.895736\n",
      "2023-11-28 15:38:30 (INFO): 3700/10000 (epoch 19):Loss: train=0.118407, val=0.147287;logMAE: train=-2.133627, val=-1.915371\n",
      "2023-11-28 15:39:18 (INFO): 3800/10000 (epoch 20):Loss: train=0.120253, val=0.144651;logMAE: train=-2.118153, val=-1.933434\n",
      "2023-11-28 15:40:05 (INFO): 3900/10000 (epoch 20):Loss: train=0.114211, val=0.142227;logMAE: train=-2.169707, val=-1.950332\n",
      "2023-11-28 15:40:56 (INFO): 4000/10000 (epoch 21):Loss: train=0.122459, val=0.140093;logMAE: train=-2.099978, val=-1.965450\n",
      "2023-11-28 15:41:47 (INFO): 4100/10000 (epoch 21):Loss: train=0.115218, val=0.138093;logMAE: train=-2.160931, val=-1.979826\n",
      "2023-11-28 15:42:37 (INFO): 4200/10000 (epoch 22):Loss: train=0.118787, val=0.136336;logMAE: train=-2.130424, val=-1.992632\n",
      "2023-11-28 15:43:25 (INFO): 4300/10000 (epoch 22):Loss: train=0.113767, val=0.134713;logMAE: train=-2.173603, val=-2.004612\n",
      "2023-11-28 15:44:13 (INFO): 4400/10000 (epoch 23):Loss: train=0.118659, val=0.133281;logMAE: train=-2.131504, val=-2.015295\n",
      "2023-11-28 15:44:59 (INFO): 4500/10000 (epoch 23):Loss: train=0.117065, val=0.131931;logMAE: train=-2.145024, val=-2.025480\n",
      "2023-11-28 15:45:50 (INFO): 4600/10000 (epoch 24):Loss: train=0.112784, val=0.130717;logMAE: train=-2.182281, val=-2.034719\n",
      "2023-11-28 15:46:37 (INFO): 4700/10000 (epoch 24):Loss: train=0.107140, val=0.129595;logMAE: train=-2.233618, val=-2.043342\n",
      "2023-11-28 15:47:23 (INFO): 4800/10000 (epoch 25):Loss: train=0.120965, val=0.128567;logMAE: train=-2.112256, val=-2.051306\n",
      "2023-11-28 15:48:10 (INFO): 4900/10000 (epoch 25):Loss: train=0.116390, val=0.127606;logMAE: train=-2.150808, val=-2.058807\n",
      "2023-11-28 15:48:56 (INFO): 5000/10000 (epoch 26):Loss: train=0.110426, val=0.126768;logMAE: train=-2.203410, val=-2.065401\n",
      "2023-11-28 15:49:43 (INFO): 5100/10000 (epoch 26):Loss: train=0.111929, val=0.126008;logMAE: train=-2.189892, val=-2.071413\n",
      "2023-11-28 15:50:29 (INFO): 5200/10000 (epoch 27):Loss: train=0.113036, val=0.125256;logMAE: train=-2.180047, val=-2.077398\n",
      "2023-11-28 15:51:16 (INFO): 5300/10000 (epoch 27):Loss: train=0.110483, val=0.124568;logMAE: train=-2.202893, val=-2.082907\n",
      "2023-11-28 15:52:03 (INFO): 5400/10000 (epoch 28):Loss: train=0.113624, val=0.123914;logMAE: train=-2.174858, val=-2.088164\n",
      "2023-11-28 15:52:50 (INFO): 5500/10000 (epoch 28):Loss: train=0.106991, val=0.123333;logMAE: train=-2.235008, val=-2.092869\n",
      "2023-11-28 15:53:36 (INFO): 5600/10000 (epoch 29):Loss: train=0.116099, val=0.122813;logMAE: train=-2.153315, val=-2.097089\n",
      "2023-11-28 15:54:23 (INFO): 5700/10000 (epoch 29):Loss: train=0.116091, val=0.122269;logMAE: train=-2.153378, val=-2.101535\n",
      "2023-11-28 15:55:09 (INFO): 5800/10000 (epoch 30):Loss: train=0.106165, val=0.121769;logMAE: train=-2.242762, val=-2.105633\n",
      "2023-11-28 15:55:56 (INFO): 5900/10000 (epoch 30):Loss: train=0.109704, val=0.121309;logMAE: train=-2.209966, val=-2.109412\n",
      "2023-11-28 15:56:42 (INFO): 6000/10000 (epoch 31):Loss: train=0.111256, val=0.120885;logMAE: train=-2.195921, val=-2.112914\n",
      "2023-11-28 15:57:28 (INFO): 6100/10000 (epoch 31):Loss: train=0.109872, val=0.120515;logMAE: train=-2.208442, val=-2.115980\n",
      "2023-11-28 15:58:15 (INFO): 6200/10000 (epoch 32):Loss: train=0.109778, val=0.120118;logMAE: train=-2.209296, val=-2.119277\n",
      "2023-11-28 15:59:02 (INFO): 6300/10000 (epoch 32):Loss: train=0.107436, val=0.119749;logMAE: train=-2.230859, val=-2.122361\n",
      "2023-11-28 15:59:48 (INFO): 6400/10000 (epoch 33):Loss: train=0.111857, val=0.119408;logMAE: train=-2.190536, val=-2.125213\n",
      "2023-11-28 16:00:34 (INFO): 6500/10000 (epoch 33):Loss: train=0.112065, val=0.119064;logMAE: train=-2.188677, val=-2.128093\n",
      "2023-11-28 16:01:21 (INFO): 6600/10000 (epoch 34):Loss: train=0.105695, val=0.118775;logMAE: train=-2.247197, val=-2.130527\n",
      "2023-11-28 16:02:07 (INFO): 6700/10000 (epoch 34):Loss: train=0.109003, val=0.118508;logMAE: train=-2.216384, val=-2.132771\n",
      "2023-11-28 16:02:54 (INFO): 6800/10000 (epoch 35):Loss: train=0.108082, val=0.118256;logMAE: train=-2.224864, val=-2.134901\n",
      "2023-11-28 16:03:40 (INFO): 6900/10000 (epoch 35):Loss: train=0.107580, val=0.118028;logMAE: train=-2.229523, val=-2.136832\n",
      "2023-11-28 16:04:26 (INFO): 7000/10000 (epoch 36):Loss: train=0.110101, val=0.117779;logMAE: train=-2.206354, val=-2.138946\n",
      "2023-11-28 16:05:12 (INFO): 7100/10000 (epoch 36):Loss: train=0.102094, val=0.117509;logMAE: train=-2.281859, val=-2.141244\n",
      "2023-11-28 16:05:59 (INFO): 7200/10000 (epoch 37):Loss: train=0.115169, val=0.117297;logMAE: train=-2.161351, val=-2.143044\n",
      "2023-11-28 16:06:45 (INFO): 7300/10000 (epoch 37):Loss: train=0.108159, val=0.117086;logMAE: train=-2.224156, val=-2.144843\n",
      "2023-11-28 16:07:32 (INFO): 7400/10000 (epoch 38):Loss: train=0.107576, val=0.116827;logMAE: train=-2.229558, val=-2.147060\n",
      "2023-11-28 16:08:19 (INFO): 7500/10000 (epoch 38):Loss: train=0.107036, val=0.116696;logMAE: train=-2.234589, val=-2.148183\n",
      "2023-11-28 16:09:05 (INFO): 7600/10000 (epoch 39):Loss: train=0.108002, val=0.116471;logMAE: train=-2.225605, val=-2.150111\n",
      "2023-11-28 16:09:56 (INFO): 7700/10000 (epoch 39):Loss: train=0.108842, val=0.116264;logMAE: train=-2.217854, val=-2.151891\n",
      "2023-11-28 16:10:54 (INFO): 7800/10000 (epoch 40):Loss: train=0.107838, val=0.116114;logMAE: train=-2.227126, val=-2.153180\n",
      "2023-11-28 16:11:49 (INFO): 7900/10000 (epoch 40):Loss: train=0.110592, val=0.115947;logMAE: train=-2.201904, val=-2.154619\n",
      "2023-11-28 16:12:42 (INFO): 8000/10000 (epoch 41):Loss: train=0.102934, val=0.115796;logMAE: train=-2.273670, val=-2.155922\n",
      "2023-11-28 16:13:33 (INFO): 8100/10000 (epoch 41):Loss: train=0.108740, val=0.115664;logMAE: train=-2.218794, val=-2.157065\n",
      "2023-11-28 16:14:23 (INFO): 8200/10000 (epoch 42):Loss: train=0.105763, val=0.115528;logMAE: train=-2.246551, val=-2.158243\n",
      "2023-11-28 16:15:14 (INFO): 8300/10000 (epoch 42):Loss: train=0.104547, val=0.115400;logMAE: train=-2.258120, val=-2.159354\n",
      "2023-11-28 16:16:07 (INFO): 8400/10000 (epoch 43):Loss: train=0.110268, val=0.115249;logMAE: train=-2.204837, val=-2.160659\n",
      "2023-11-28 16:16:58 (INFO): 8500/10000 (epoch 43):Loss: train=0.105226, val=0.115104;logMAE: train=-2.251641, val=-2.161919\n",
      "2023-11-28 16:17:48 (INFO): 8600/10000 (epoch 44):Loss: train=0.109613, val=0.114968;logMAE: train=-2.210799, val=-2.163101\n",
      "2023-11-28 16:18:38 (INFO): 8700/10000 (epoch 44):Loss: train=0.104527, val=0.114843;logMAE: train=-2.258310, val=-2.164188\n",
      "2023-11-28 16:19:30 (INFO): 8800/10000 (epoch 45):Loss: train=0.108050, val=0.114755;logMAE: train=-2.225165, val=-2.164952\n",
      "2023-11-28 16:20:25 (INFO): 8900/10000 (epoch 45):Loss: train=0.106703, val=0.114659;logMAE: train=-2.237703, val=-2.165794\n",
      "2023-11-28 16:21:28 (INFO): 9000/10000 (epoch 46):Loss: train=0.106347, val=0.114537;logMAE: train=-2.241044, val=-2.166860\n",
      "2023-11-28 16:22:22 (INFO): 9100/10000 (epoch 46):Loss: train=0.105137, val=0.114512;logMAE: train=-2.252493, val=-2.167073\n",
      "2023-11-28 16:23:14 (INFO): 9200/10000 (epoch 47):Loss: train=0.108962, val=0.114404;logMAE: train=-2.216755, val=-2.168018\n",
      "2023-11-28 16:24:05 (INFO): 9300/10000 (epoch 47):Loss: train=0.098531, val=0.114346;logMAE: train=-2.317385, val=-2.168526\n",
      "2023-11-28 16:24:58 (INFO): 9400/10000 (epoch 48):Loss: train=0.113954, val=0.114230;logMAE: train=-2.171960, val=-2.169542\n",
      "2023-11-28 16:25:49 (INFO): 9500/10000 (epoch 48):Loss: train=0.107334, val=0.114158;logMAE: train=-2.231807, val=-2.170175\n",
      "2023-11-28 16:26:41 (INFO): 9600/10000 (epoch 49):Loss: train=0.104992, val=0.114081;logMAE: train=-2.253873, val=-2.170848\n",
      "2023-11-28 16:27:32 (INFO): 9700/10000 (epoch 49):Loss: train=0.105212, val=0.113995;logMAE: train=-2.251774, val=-2.171603\n",
      "2023-11-28 16:28:27 (INFO): 9800/10000 (epoch 50):Loss: train=0.106658, val=0.113908;logMAE: train=-2.238127, val=-2.172363\n",
      "2023-11-28 16:29:19 (INFO): 9900/10000 (epoch 50):Loss: train=0.099087, val=0.113834;logMAE: train=-2.311760, val=-2.173015\n",
      "2023-11-28 16:30:10 (INFO): 10000/10000 (epoch 51):Loss: train=0.112788, val=0.113775;logMAE: train=-2.182249, val=-2.173529\n"
     ]
    }
   ],
   "source": [
    "with summary_writer.as_default():\n",
    "    steps_per_epoch = int(np.ceil(num_train / batch_size))\n",
    "\n",
    "    if ckpt_restored is not None:\n",
    "        step_init = ckpt.step.numpy()\n",
    "    else:\n",
    "        step_init = 1\n",
    "    for step in range(step_init, num_steps + 1):\n",
    "        # Update step number\n",
    "        ckpt.step.assign(step)\n",
    "        tf.summary.experimental.set_step(step)\n",
    "\n",
    "        # Perform training step\n",
    "        trainer.train_on_batch(train['dataset_iter'], train['metrics'])\n",
    "\n",
    "        # Save progress\n",
    "        if (step % save_interval == 0):\n",
    "            manager.save()\n",
    "\n",
    "        # Evaluate model and log results\n",
    "        if (step % evaluation_interval == 0):\n",
    "\n",
    "            # Save backup variables and load averaged variables\n",
    "            trainer.save_variable_backups()\n",
    "            trainer.load_averaged_variables()\n",
    "\n",
    "            # Compute results on the validation set\n",
    "            for i in range(int(np.ceil(num_valid / batch_size))):\n",
    "                trainer.test_on_batch(validation['dataset_iter'], validation['metrics'])\n",
    "\n",
    "            # Update and save best result\n",
    "            if validation['metrics'].mean_mae < metrics_best['mean_mae_val']:\n",
    "                metrics_best['step'] = step\n",
    "                metrics_best.update(validation['metrics'].result())\n",
    "\n",
    "                np.savez(best_loss_file, **metrics_best)\n",
    "                model.save_weights(best_ckpt_file)\n",
    "\n",
    "            for key, val in metrics_best.items():\n",
    "                if key != 'step':\n",
    "                    tf.summary.scalar(key + '_best', val)\n",
    "                \n",
    "            epoch = step // steps_per_epoch\n",
    "            logging.info(\n",
    "                f\"{step}/{num_steps} (epoch {epoch + 1}):\"\n",
    "                f\"Loss: train={train['metrics'].loss:.6f}, val={validation['metrics'].loss:.6f};\"\n",
    "                f\"logMAE: train={train['metrics'].mean_log_mae:.6f}, \"\n",
    "                f\"val={validation['metrics'].mean_log_mae:.6f}\"\n",
    "            )\n",
    "\n",
    "            train['metrics'].write()\n",
    "            validation['metrics'].write()\n",
    "\n",
    "            train['metrics'].reset_states()\n",
    "            validation['metrics'].reset_states()\n",
    "\n",
    "            # Restore backup variables\n",
    "            trainer.restore_variable_backups()"
   ]
  }
 ],
 "metadata": {
  "kernelspec": {
   "display_name": "Python 3",
   "language": "python",
   "name": "python3"
  },
  "language_info": {
   "codemirror_mode": {
    "name": "ipython",
    "version": 3
   },
   "file_extension": ".py",
   "mimetype": "text/x-python",
   "name": "python",
   "nbconvert_exporter": "python",
   "pygments_lexer": "ipython3",
   "version": "3.10.8"
  },
  "orig_nbformat": 4
 },
 "nbformat": 4,
 "nbformat_minor": 2
}
